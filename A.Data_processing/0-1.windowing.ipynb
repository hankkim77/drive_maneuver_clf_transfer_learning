{
 "cells": [
  {
   "cell_type": "markdown",
   "id": "871d245c-bf71-4409-9757-c9c246bd72d8",
   "metadata": {},
   "source": [
    "#### Prepare all data to be windowed "
   ]
  },
  {
   "cell_type": "code",
   "execution_count": 1,
   "id": "3422c2eb-56f7-4017-9d7e-e7b11089b756",
   "metadata": {},
   "outputs": [],
   "source": [
    "import pandas as pd \n",
    "import numpy as np\n",
    "import pickle\n",
    "from sklearn.preprocessing import LabelEncoder, StandardScaler, MinMaxScaler\n",
    "\n",
    "seed = 7\n",
    "np.random.seed(seed)"
   ]
  },
  {
   "cell_type": "code",
   "execution_count": 2,
   "id": "a65d5205",
   "metadata": {},
   "outputs": [],
   "source": [
    "file_path = '../Data/'\n",
    "candidate_file, label_file = 'data_10Hz_candidates.csv','data_10Hz_labeled.csv'\n",
    "window_size , overlap = 32, 0.5"
   ]
  },
  {
   "cell_type": "code",
   "execution_count": 3,
   "id": "af8d1f72-6748-4e82-ab47-b4f2a7d82f09",
   "metadata": {},
   "outputs": [],
   "source": [
    "def data_loader(candidate_file, label_file):\n",
    "    dataset = pd.read_csv(file_path + candidate_file)\n",
    "    label  = pd.read_csv(file_path + label_file)\n",
    "    return dataset, label"
   ]
  },
  {
   "cell_type": "code",
   "execution_count": 4,
   "id": "c9372e4c-e74e-48f8-b263-bf0f1a4d75b0",
   "metadata": {},
   "outputs": [],
   "source": [
    "def data_processing(dataset, label, window_size , overlap):\n",
    "\n",
    "    feat = ['AccelX','AccelY','AccelZ','GyroX', 'GyroY', 'GyroZ', 'Heading', 'Speed', 'SAS_Angle', 'lateral_offset', 'pred']\n",
    "    cat = list(label['maneuver'])\n",
    "    data = dataset.loc[:, feat]\n",
    "    \n",
    "    ## Previous pred -> left 1 , right 2 \n",
    "    ## lc pred -> one hot encoding\n",
    "    data = pd.get_dummies(data, columns = ['pred'])\n",
    "    data['maneuver'] = cat\n",
    "\n",
    "    ## make sliding windows\n",
    "    windows = []\n",
    "\n",
    "    df = data\n",
    "    k = int((len(df)-window_size)/(window_size*(1-overlap)))\n",
    "    for i in range(k+1):\n",
    "        w_s = int(i*(1-overlap)*window_size)\n",
    "        w_e = w_s + window_size\n",
    "        win = df.iloc[w_s:w_e,:]\n",
    "        win = win.fillna(0)\n",
    "        windows.append(win)\n",
    "\n",
    "    ## make label for window\n",
    "    label = []\n",
    "    for win in windows:\n",
    "        mane = win['maneuver'].value_counts()\n",
    "        label.append(mane.index[0])\n",
    "\n",
    "    y = np.array(label)\n",
    "    np.unique(y)\n",
    "    \n",
    "    ## Data arrangement for learning\n",
    "\n",
    "    X = np.array(windows)\n",
    "    X = X[:,:,:-1] ##slice 'maneuver'(answer) in X\n",
    "    X = np.nan_to_num(X)\n",
    "    le = LabelEncoder()\n",
    "    y = le.fit_transform(y)\n",
    "    \n",
    "    return X, y "
   ]
  },
  {
   "cell_type": "code",
   "execution_count": 5,
   "id": "02d25d0e-4393-4c66-b05f-2bd83f4e0d0a",
   "metadata": {},
   "outputs": [
    {
     "name": "stdout",
     "output_type": "stream",
     "text": [
      "(3433, 32, 13) (3433,)\n"
     ]
    }
   ],
   "source": [
    "dataset0, label0 = data_loader(candidate_file, label_file)\n",
    "\n",
    "X, y = data_processing(dataset0, label0, window_size , overlap)\n",
    "print(X.shape, y.shape)"
   ]
  },
  {
   "cell_type": "code",
   "execution_count": 6,
   "id": "8bd9f3cf-934a-4c83-8d5b-e467f75b6a93",
   "metadata": {},
   "outputs": [],
   "source": [
    "# # Multivariate Timeseries Standardization \n",
    "# from tslearn.preprocessing import TimeSeriesScalerMeanVariance\n",
    "\n",
    "# # X = TimeSeriesScalerMeanVariance(mu=0, std=1).fit_transform(X)\n",
    "\n",
    "# X0 = TimeSeriesScalerMeanVariance(mu=0, std=1).fit_transform(X[:,:,:6])\n",
    "# X1 = X[:,:,6:]\n",
    "# X = np.concatenate((X0, X1), axis = 2)"
   ]
  },
  {
   "cell_type": "code",
   "execution_count": 7,
   "id": "997f3c9c",
   "metadata": {},
   "outputs": [
    {
     "name": "stdout",
     "output_type": "stream",
     "text": [
      "(2746, 32, 13)\n",
      "(2746,)\n"
     ]
    }
   ],
   "source": [
    "# Train-Test split\n",
    "from sklearn.model_selection import train_test_split\n",
    "\n",
    "train_X, test_X, train_y, test_y = train_test_split(X, y, stratify = y, test_size=0.2, random_state=0)\n",
    "\n",
    "print(train_X.shape)\n",
    "print(train_y.shape)"
   ]
  },
  {
   "cell_type": "code",
   "execution_count": 8,
   "id": "217838da-e8f0-421c-9f22-810986c2c893",
   "metadata": {},
   "outputs": [],
   "source": [
    "# save windowed data into .pkl format file\n",
    "data = [train_X, test_X, train_y, test_y]\n",
    "\n",
    "with open(file_path + 'data_no_std.pkl', 'wb') as f:\n",
    "    pickle.dump(data, f)"
   ]
  },
  {
   "cell_type": "code",
   "execution_count": 9,
   "id": "52260144-49f2-4bd1-9515-9991117a55e4",
   "metadata": {},
   "outputs": [],
   "source": [
    "## test_results to find proper window_size and overlap\n",
    "\n",
    "# window_size 32 overlap 0.5  // 0.82 0.74 0.77\n",
    "# window_size 32 overlap 0.75 // 0.87 0.81 0.84\n",
    "# window_size 32 overlap 0.875 // 0.93 0.93 0.93 \n",
    "\n",
    "### overlap 높으면 traintest split 하면서 비슷한 frame이 많이 나와서 score가 올라가는듯\n",
    "\n",
    "# window_size 32 overlap 0.6875 // 0.89 0.83 0.86\n",
    "# window_size 32 overlap 0.625 // 0.89 0.75 0.8\n",
    "# window_size 32 overlap 0.5625 // 0.77 0.77 0.76\n",
    "# window_size 32 overlap 0.59375 // 0.86 0.80 0.82\n",
    "\n",
    "\n",
    "# window_size 64 overlap 0.5 // 0.71 0.66 0.67\n",
    "# window_size 64 overlap 0.75 // 0.83 0.76 0.79\n",
    "# window_size 64 overlap 0.625 // 0.78 0.7 0.73\n",
    "\n",
    "# window_size 48 overlap 0.5 // 0.75 0.65 0.66\n",
    "# window_size 48 overlap 0.75 // 0.84 0.75 0.79\n",
    "# window_size 48 overlap 0.625 // 0.81 0.73 0.76\n",
    "\n",
    "# window_size 24 overlap 0.5 // 0.83 0.76 0.79\n",
    "# window_size 24 overlap 0.75 // 0.89 0.88 0.88\n",
    "# window_size 24 overlap 0.625 // 0.88 0.83 0.85\n",
    "\n",
    "# window_size 16 overlap 0 // 0.81 0.74 0.77\n",
    "# window_size 16 overlap 0.25 // 0.80 0.79 0.79"
   ]
  }
 ],
 "metadata": {
  "kernelspec": {
   "display_name": "py38",
   "language": "python",
   "name": "python3"
  },
  "language_info": {
   "codemirror_mode": {
    "name": "ipython",
    "version": 3
   },
   "file_extension": ".py",
   "mimetype": "text/x-python",
   "name": "python",
   "nbconvert_exporter": "python",
   "pygments_lexer": "ipython3",
   "version": "3.8.13"
  },
  "vscode": {
   "interpreter": {
    "hash": "2e34963b9aa1c0ebb4812a7f2a57632eb232e24c7240576deb31ccfc1dcd81fa"
   }
  }
 },
 "nbformat": 4,
 "nbformat_minor": 5
}
