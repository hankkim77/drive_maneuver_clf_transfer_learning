{
 "cells": [
  {
   "cell_type": "markdown",
   "id": "dbf9af19-cf93-4cce-9eb7-9b33b879443f",
   "metadata": {
    "tags": []
   },
   "source": [
    "## Rule Based Label _ 10Hz"
   ]
  },
  {
   "attachments": {},
   "cell_type": "markdown",
   "id": "8ce2ce75",
   "metadata": {},
   "source": [
    "##### Warning! Check Acc/Gyro direction before run"
   ]
  },
  {
   "cell_type": "code",
   "execution_count": 38,
   "id": "02a92892",
   "metadata": {},
   "outputs": [],
   "source": [
    "import pandas as pd\n",
    "import numpy as np\n",
    "\n",
    "## DATA LOAD\n",
    "\n",
    "file_path = '../Data/'\n",
    "file_name = 'data_10Hz.csv'\n",
    "df = pd.read_csv(file_path+file_name)"
   ]
  },
  {
   "cell_type": "markdown",
   "id": "e196820f-dfd5-47ee-805b-8c4de7849f9f",
   "metadata": {},
   "source": [
    "## 급가속\n",
    "---\n",
    "### 조건\n",
    "1. Vehicle Speed more than __*10km/h*__ per second\n",
    "2. Accelerate over __*6km/h*__ within __*1 sec*__.\n",
    "3. Engine RPM exceed __*2500*__\n",
    "4. Accelerator pedal position exceed __*0%*__\n",
    "5. Longitudinal Acceleration exceed __*1.8m/s2*__ (2번 조건과 충돌됨, C2 : 1.67m/s2) _ 삭제\n"
   ]
  },
  {
   "cell_type": "code",
   "execution_count": 40,
   "id": "2fa84b95-ed66-4f18-8b09-f45014b9cafc",
   "metadata": {},
   "outputs": [],
   "source": [
    "def get_stepgas(df, thres_speed = 10, thres_dspeed = 6, thres_long_acc = 1.67, thres_rpm = 2500, thres_acc_pdl_pos = 0, speed_in_ms = True):\n",
    "    \n",
    "    # Convert Speed in kph unit\n",
    "    if speed_in_ms:\n",
    "        df.Speed = df.Speed * 3.6;\n",
    "        \n",
    "    # Speed Mask\n",
    "    mask_c1 = df.Speed > thres_speed\n",
    "    \n",
    "    # Speed Difference Mask\n",
    "    dspeed = np.roll(df.Speed.values,-10) - df.Speed.values\n",
    "    mask_c2 = (dspeed >= thres_dspeed)\n",
    "    \n",
    "    # RPM Mask\n",
    "    mask_c3 = df.N > thres_rpm\n",
    "    \n",
    "    # Pedal Mask\n",
    "    mask_c4 = df.PV_AV_CAN > thres_acc_pdl_pos\n",
    "    \n",
    "    # Longitudinal Acc Mask\n",
    "    mask_c5 = df.AccelX > thres_long_acc\n",
    "\n",
    "    # index_list = df.index[mask_c1 & mask_c2 & mask_c3 & mask_c4 & mask_c5]\n",
    "    index_list = df.index[mask_c1 & mask_c2 & mask_c3 & mask_c4]\n",
    "    \n",
    "    return index_list"
   ]
  },
  {
   "cell_type": "code",
   "execution_count": 41,
   "id": "2ca0647c",
   "metadata": {},
   "outputs": [
    {
     "data": {
      "text/plain": [
       "Int64Index([ 8848, 24230, 24231, 24232, 24233, 24234, 24235, 24236, 24238,\n",
       "            24239, 24240, 24241, 24242, 24243, 43347, 43348, 43349, 43350,\n",
       "            43351, 43352, 43353, 43354, 43355, 43356, 43357, 43358, 43359,\n",
       "            43360, 43361, 43362, 43363, 43364, 43365, 43366, 43367, 43368,\n",
       "            43369, 43370, 43371],\n",
       "           dtype='int64')"
      ]
     },
     "execution_count": 41,
     "metadata": {},
     "output_type": "execute_result"
    }
   ],
   "source": [
    "get_stepgas(df)"
   ]
  },
  {
   "cell_type": "markdown",
   "id": "5acab902-ba6e-4d43-bd67-5073aa9298a0",
   "metadata": {},
   "source": [
    "## 급출발*\n",
    "---\n",
    "### 조건\n",
    "1. Vehicle Speed under than __*10km/h*__ at initial point. [data.Speed]\n",
    "2. Accelerate over __*8km/h*__ per second [data.Speed 변화량]\n",
    "3. Engine RPM exceed __*2500*__ [data.N]\n",
    "4. Accelerator pedal position exceed __*0%*__ [data.PV_AV_CAN]\n",
    "5. Acceleration over __*1.8m/s2*__ (2번 조건과 충돌됨, C2 : 2.22m/s2) [data.AccelX]  _ 삭제"
   ]
  },
  {
   "cell_type": "code",
   "execution_count": 42,
   "id": "7b72943d-8780-4b63-8c80-c89b77878c07",
   "metadata": {},
   "outputs": [],
   "source": [
    "def get_suddendepature(df, thres_speed = 10, thres_dspeed = 8, thres_long_acc = 1.8, thres_rpm = 2500, thres_acc_pdl_pos = 0, speed_in_ms = True):\n",
    "\n",
    "    # Convert Speed in kph unit\n",
    "    if speed_in_ms:\n",
    "        df.Speed = df.Speed * 3.6;\n",
    "        \n",
    "    # Speed Mask\n",
    "    mask_c1 = df.Speed < thres_speed\n",
    "    \n",
    "    # Speed Difference Mask\n",
    "    dspeed = np.roll(df.Speed.values,-10) - df.Speed.values\n",
    "    mask_c2 = (dspeed >= thres_dspeed)\n",
    "    \n",
    "    # RPM Mask\n",
    "    mask_c3 = df.N > thres_rpm\n",
    "    \n",
    "    # Pedal Mask\n",
    "    mask_c4 = df.PV_AV_CAN > thres_acc_pdl_pos\n",
    "    \n",
    "    # Longitudinal Acc Mask\n",
    "    mask_c5 = df.AccelX > thres_long_acc\n",
    "\n",
    "    # index_list = df.index[mask_c1 & mask_c2 & mask_c3 & mask_c4 & mask_c5]\n",
    "    index_list = df.index[mask_c1 & mask_c2 & mask_c3 & mask_c4]\n",
    "    \n",
    "    return index_list"
   ]
  },
  {
   "cell_type": "code",
   "execution_count": 43,
   "id": "3e7128a8",
   "metadata": {},
   "outputs": [
    {
     "data": {
      "text/plain": [
       "Int64Index([], dtype='int64')"
      ]
     },
     "execution_count": 43,
     "metadata": {},
     "output_type": "execute_result"
    }
   ],
   "source": [
    "get_suddendepature(df)"
   ]
  },
  {
   "cell_type": "markdown",
   "id": "4613359f-44c0-406c-9ee2-0a00661f489f",
   "metadata": {},
   "source": [
    "## 급감속*\n",
    "---\n",
    "### 조건\n",
    "1. Vehicle Speed more than __*10km/h*__ [data.Speed]\n",
    "2. Deccelerate over __*9km/h*__ per second [data.Speed 변화량]\n",
    "3. Longitudinal Decceleration over __*1.5m/s2*__ (2번 조건과 충돌됨, C2 : 2.5m/s2) [data.AccelX 음수값]\n",
    "4. Brake Pedal pressed __*True*__ [data.BrakeLight] -> data.DriverBraking? data.CF_DriBkeStat?"
   ]
  },
  {
   "cell_type": "code",
   "execution_count": 44,
   "id": "175f9728",
   "metadata": {},
   "outputs": [
    {
     "data": {
      "text/plain": [
       "0.0    30304\n",
       "1.0    24647\n",
       "Name: CF_DriBkeStat, dtype: int64"
      ]
     },
     "execution_count": 44,
     "metadata": {},
     "output_type": "execute_result"
    }
   ],
   "source": [
    "# df.DriverBraking.value_counts()\n",
    "df.CF_DriBkeStat.value_counts()"
   ]
  },
  {
   "cell_type": "code",
   "execution_count": 45,
   "id": "1562573a",
   "metadata": {},
   "outputs": [],
   "source": [
    "def get_suddendecel(df, thres_speed = 10, thres_dspeed = -9, thres_long_acc = -1.5,  speed_in_ms = True):\n",
    "\n",
    "    # Convert Speed in kph unit\n",
    "    if speed_in_ms:\n",
    "        df.Speed = df.Speed * 3.6;\n",
    "        \n",
    "    # Speed Mask\n",
    "    mask_c1 = df.Speed > thres_speed\n",
    "    \n",
    "    # Speed Difference Mask\n",
    "    dspeed = np.roll(df.Speed.values,-10) - df.Speed.values\n",
    "    mask_c2 = (dspeed <= thres_dspeed)\n",
    "    \n",
    "    # Longitudinal Acc Mask\n",
    "    mask_c3 = df.AccelX < thres_long_acc\n",
    "\n",
    "    # break pedal pressed == True\n",
    "    # mask_c4 = (df.CF_DriBkeStat == 1)\n",
    "    mask_c4 = (df.DriverBraking == 1)\n",
    "\n",
    "    # index_list = df.index[mask_c1 & mask_c2 & mask_c3 & mask_c4]\n",
    "    index_list = df.index[mask_c1 & mask_c2 & mask_c4]\n",
    "    \n",
    "    return index_list\n",
    "    "
   ]
  },
  {
   "cell_type": "code",
   "execution_count": 46,
   "id": "1720f1fc",
   "metadata": {},
   "outputs": [
    {
     "data": {
      "text/plain": [
       "Int64Index([    2,     3,     4,     5,     6,     7,     8,     9,    10,\n",
       "               11,\n",
       "            ...\n",
       "            54888, 54889, 54890, 54891, 54892, 54893, 54926, 54927, 54950,\n",
       "            54951],\n",
       "           dtype='int64', length=6426)"
      ]
     },
     "execution_count": 46,
     "metadata": {},
     "output_type": "execute_result"
    }
   ],
   "source": [
    "get_suddendecel(df)"
   ]
  },
  {
   "cell_type": "markdown",
   "id": "e280bd68-d6af-44c8-b013-8c938ae16d84",
   "metadata": {},
   "source": [
    "## 급정지*\n",
    "---\n",
    "### 조건\n",
    "1. Deccelerate over __*9km/h*__ per second [data.Speed]\n",
    "2. Final Speed under __*5km/h*__ [data.Speed 변화량]\n",
    "3. Longitudinal Decceleration over __*1.5m/s2*__ (1번 조건과 충돌됨, C1 : 2.5m/s2) [data.AccelX 음수값]\n",
    "4. Brake Pedal pressed more than {__*COUNT*__} when vehicle stopped (2번 조건과 충돌됨) [data.BrakeLight]"
   ]
  },
  {
   "cell_type": "code",
   "execution_count": 47,
   "id": "ce1ae543-7c5b-4784-b1f0-f0f07430b2be",
   "metadata": {},
   "outputs": [],
   "source": [
    "def get_suddenstop(df, thres_speed = 5, thres_dspeed = -9, thres_long_acc = -1.5,  speed_in_ms = True):\n",
    "\n",
    "    # Convert Speed in kph unit\n",
    "    if speed_in_ms:\n",
    "        df.Speed = df.Speed * 3.6;\n",
    "        \n",
    "    # Speed Mask\n",
    "    mask_c1 = df.Speed < thres_speed\n",
    "    \n",
    "    # Speed Difference Mask\n",
    "    dspeed = np.roll(df.Speed.values,-10) - df.Speed.values\n",
    "    mask_c2 = (dspeed <= thres_dspeed)\n",
    "    \n",
    "    # Longitudinal Acc Mask\n",
    "    mask_c3 = df.AccelX < thres_long_acc\n",
    "\n",
    "    # break pedal pressed == True\n",
    "    # mask_c4 = (df.CF_DriBkeStat == 1)\n",
    "    mask_c4 = (df.DriverBraking == 1)\n",
    "\n",
    "    # index_list = df.index[mask_c1 & mask_c2 & mask_c3 & mask_c4]\n",
    "    index_list = df.index[mask_c1 & mask_c2 & mask_c4]\n",
    "    \n",
    "    return index_list"
   ]
  },
  {
   "cell_type": "code",
   "execution_count": 48,
   "id": "180cb07b",
   "metadata": {},
   "outputs": [
    {
     "data": {
      "text/plain": [
       "Int64Index([], dtype='int64')"
      ]
     },
     "execution_count": 48,
     "metadata": {},
     "output_type": "execute_result"
    }
   ],
   "source": [
    "get_suddenstop(df)"
   ]
  },
  {
   "cell_type": "markdown",
   "id": "14e37808-1b2d-4c9e-9645-0842c609cc46",
   "metadata": {},
   "source": [
    "## 급진로변경\n",
    "---\n",
    "### 실제 라벨\n",
    "1. Turnsignal on [data.CF_Gway_TSigLHSw],[data.CF_Gway_TSigRHSw]\n",
    "---\n",
    "### 조건 (사용x)\n",
    "1. Vehicle Speed more than __*30km/h*__\n",
    "2. Yaw rate over __*10deg*__ per second (0.175rad/s)\n",
    "3. Accel/Deccel over __*2km/h*__ per second in __*5s*__ window (__*10km/s per 10s__*)\n",
    "4. **Lateral** Acceleration over __*1.5m/s2*__ (횡방향이 아니라 종방향인가요? 전달받은 조건은 종방향으로 되어 있었는데, 해당 경우 걸리는게 없어서 횡으로 변경)"
   ]
  },
  {
   "cell_type": "code",
   "execution_count": 49,
   "id": "b0803515-a31d-4282-82d4-270ed414da29",
   "metadata": {},
   "outputs": [],
   "source": [
    "def get_stepsteer(df, direction):\n",
    "    ## direction = 'right' / 'left'\n",
    "    \n",
    "    if direction == 'left':\n",
    "        mask_c1 = df.CF_Gway_TSigLHSw == 1\n",
    "    \n",
    "    elif direction == 'right':\n",
    "        mask_c1 = df.CF_Gway_TSigRHSw == 1\n",
    "\n",
    "    index_list = df.index[mask_c1]\n",
    "\n",
    "    return index_list"
   ]
  },
  {
   "cell_type": "code",
   "execution_count": 50,
   "id": "e92e12c7",
   "metadata": {},
   "outputs": [
    {
     "data": {
      "text/plain": [
       "Int64Index([  160,   161,   162,   163,   164,   165,   166,   167,   168,\n",
       "              169,\n",
       "            ...\n",
       "            54235, 54236, 54237, 54238, 54239, 54240, 54241, 54242, 54243,\n",
       "            54244],\n",
       "           dtype='int64', length=1852)"
      ]
     },
     "execution_count": 50,
     "metadata": {},
     "output_type": "execute_result"
    }
   ],
   "source": [
    "get_stepsteer(df, 'left')"
   ]
  },
  {
   "cell_type": "code",
   "execution_count": 51,
   "id": "157b47e5",
   "metadata": {},
   "outputs": [
    {
     "data": {
      "text/plain": [
       "Int64Index([ 3137,  3138,  3139,  3140,  3141,  3142,  3143,  3144,  3145,\n",
       "             3146,\n",
       "            ...\n",
       "            54942, 54943, 54944, 54945, 54946, 54947, 54948, 54949, 54950,\n",
       "            54951],\n",
       "           dtype='int64', length=1867)"
      ]
     },
     "execution_count": 51,
     "metadata": {},
     "output_type": "execute_result"
    }
   ],
   "source": [
    "get_stepsteer(df, 'right')"
   ]
  },
  {
   "cell_type": "markdown",
   "id": "04f481da-7df3-4f5c-bdd5-ad76e8bfa86d",
   "metadata": {},
   "source": [
    "## 급앞지르기\n",
    "---\n",
    "### 조건\n",
    "1. Vehicle Speed more than __*30km/h*__\n",
    "2. Yaw rate over __*10deg*__ per second (0.175rad/s)\n",
    "3. Accel/Deccel over __*5km/h*__ per second\n",
    "4. **Longitudinal** Acceleration over __*1.5m/s2*__\n",
    "5. Engine RPM exceed __*2500*__"
   ]
  },
  {
   "cell_type": "code",
   "execution_count": 52,
   "id": "e5f9720f-d6b4-4368-8ccf-7d681eeac4f2",
   "metadata": {},
   "outputs": [],
   "source": [
    "def get_takeover(df, thres_speed = 30, thres_dspeed = 5, thres_long_acc = 1.5, thres_yawrate = 10, thres_rpm =2500, angle_in_degree = False, speed_in_ms = True):\n",
    "    \n",
    "    # Convert Speed in kph unit\n",
    "    if speed_in_ms:\n",
    "        df.Speed = df.Speed * 3.6;\n",
    "        \n",
    "    if angle_in_degree:\n",
    "        df.GyroZ = np.rad2deg(df.GyroZ)\n",
    "    # Speed Mask\n",
    "    mask_c1 = df.Speed > thres_speed\n",
    "    \n",
    "    # Yaw Rate Mask\n",
    "    mask_c2 = df.GyroZ > thres_yawrate\n",
    "    \n",
    "    # Speed Difference Mask\n",
    "    dspeed = np.roll(df.Speed.values,-10) - df.Speed.values\n",
    "    mask_c3 = (dspeed >= thres_dspeed) | (dspeed <= -thres_dspeed)\n",
    "    \n",
    "    # Longitudinal Acc Mask\n",
    "    mask_c4 = df.AccelX > thres_long_acc\n",
    "    \n",
    "    # RPM Mask\n",
    "    mask_c5 = df.N > thres_rpm\n",
    "    \n",
    "    index_list = df.index[mask_c1 & mask_c2 & mask_c3 &  mask_c4 & mask_c5]\n",
    "    \n",
    "    return index_list"
   ]
  },
  {
   "cell_type": "code",
   "execution_count": 53,
   "id": "083ce1c4",
   "metadata": {},
   "outputs": [
    {
     "data": {
      "text/plain": [
       "Int64Index([], dtype='int64')"
      ]
     },
     "execution_count": 53,
     "metadata": {},
     "output_type": "execute_result"
    }
   ],
   "source": [
    "get_takeover(df)"
   ]
  },
  {
   "cell_type": "markdown",
   "id": "909f3ccf-bd29-4816-bb69-54b451ad73fc",
   "metadata": {},
   "source": [
    "## 급회전*\n",
    "---\n",
    "### 조건\n",
    "1. Vehicle Speed more than __*20km/h*__ [data.Speed]\n",
    "2. Cumulative sum of yaw rate in range __*60~120degree*__ [data.GyroZ 적분치의 절대값]\n",
    "3. Lateral Acceleration over __*1.5m/s2*__ [data.AccelY]"
   ]
  },
  {
   "cell_type": "code",
   "execution_count": 54,
   "id": "19a1f06c-60d6-4c78-b3d7-42f2f5f2d01a",
   "metadata": {},
   "outputs": [],
   "source": [
    "def get_suddenturn(df):\n",
    "    data_list = df[(df.Speed * 3.6 > 20) * (df.AccelY * 3.6 > 1.5)]\n",
    "    timestamp = df.TimeStamp\n",
    "    speed = data_list.Speed * 3.6\n",
    "    gz = data_list.GyroZ\n",
    "    ay = data_list.Speed * 3.6\n",
    "    \n",
    "    index_list = data_list.index\n",
    "    \n",
    "    flat_list = index_list - list(range(len(index_list)))\n",
    "    unique_list = pd.unique(flat_list)\n",
    "    event_list = []\n",
    "    \n",
    "    for value in unique_list:\n",
    "        event_index_list = index_list[flat_list == value]\n",
    "        \n",
    "        temp_gz = gz[event_index_list]\n",
    "        \n",
    "        yaw_rate = np.sum(temp_gz) / len(temp_gz) * (timestamp.iloc[temp_gz.index[-1]] - timestamp.iloc[temp_gz.index[0]])\n",
    "        \n",
    "        if 60 <= yaw_rate <= 120:\n",
    "            event_index_list = event_index_list.astype('int')\n",
    "            event_index = event_index_list[0]\n",
    "            event_list += [{\"longitude\":float(df.Longitude[event_index]), \"latitude\":float(df.Latitude[event_index]), \"timestamp\":float(timestamp[event_index]), \"timestampList\":timestamp[event_index_list].tolist()}]\n",
    "    \n",
    "    return event_list"
   ]
  },
  {
   "cell_type": "code",
   "execution_count": 55,
   "id": "79eb3ef4",
   "metadata": {},
   "outputs": [
    {
     "data": {
      "text/plain": [
       "[]"
      ]
     },
     "execution_count": 55,
     "metadata": {},
     "output_type": "execute_result"
    }
   ],
   "source": [
    "get_suddenturn(df)"
   ]
  },
  {
   "cell_type": "markdown",
   "id": "ba3dc2d8-6836-4b16-9f93-29af8d5aaa7d",
   "metadata": {},
   "source": [
    "## 급유턴\n",
    "---\n",
    "### 조건\n",
    "1. Vehicle Speed more than __*20km/h*__\n",
    "2. Cumulative sum of yaw rate in range __*60~120degree*__\n",
    "3. Peak yaw rate over __*30deg/s*__ (0.52rad/s)\n",
    "4. Lateral Acceleration over __*4m/s2*__"
   ]
  },
  {
   "cell_type": "code",
   "execution_count": 56,
   "id": "e83ec1ac-b68f-457b-abf4-bd101e04c5a5",
   "metadata": {},
   "outputs": [],
   "source": [
    "def get_steputurn(df, thres_speed = 20, thres_window = 100, thres_yaw = [160,200], thres_yawrate = 30, thres_lat_acc = 4, angle_in_degree = False, speed_in_ms = True):\n",
    "    \n",
    "    # Convert Speed in kph unit\n",
    "    if speed_in_ms:\n",
    "        df.Speed = df.Speed * 3.6;\n",
    "        \n",
    "    if angle_in_degree:\n",
    "        df.GyroZ = np.rad2deg(df.GyroZ)\n",
    "    # Speed Mask\n",
    "    mask_c1 = df.Speed > thres_speed\n",
    "    \n",
    "    # Yaw Mask\n",
    "    # mask_c2 = (np.convolve(df.GyroZ, np.ones(thres_window, dtype=int),'same') > thres_yaw[0]) & (np.convolve(df.GyroZ, np.ones(thres_window, dtype=int),'same') < thres_yaw[1])\n",
    "    heading = np.rad2deg(np.unwrap(np.deg2rad(df.Heading)))\n",
    "    dheading = np.roll(heading, -thres_window) - heading\n",
    "    mask_c2 = (abs(dheading)>thres_yaw[0]) & (abs(dheading)<thres_yaw[1])\n",
    "    \n",
    "    # Peak Yaw Rate\n",
    "    rollmax = df.GyroZ.abs().rolling(thres_window).max()\n",
    "    mask_c3 = (rollmax > thres_yawrate) | (rollmax < -thres_yawrate)\n",
    "    \n",
    "    # Longitudinal Acc Mask\n",
    "    mask_c4 = df.AccelY > thres_lat_acc\n",
    "    \n",
    "    event_list = []\n",
    "    index_list = df.index[mask_c1 & mask_c2 & mask_c3 & mask_c4]\n",
    "    \n",
    "    flat_index = index_list - list(range(len(index_list)))\n",
    "    unique_index = pd.unique(flat_index)\n",
    "    for value in unique_index:\n",
    "        event_index_list = index_list[flat_index == value].astype('int')\n",
    "        event_index = [(np.median(event_index_list)).astype('int')]\n",
    "        if (df.TimeStampUnix.iloc[event_index_list[-1]]-df.TimeStampUnix.iloc[event_index_list[0]]) < 3:\n",
    "            continue\n",
    "        event_list += [{\"lateralacceleration\":float(np.mean(df.AccelY[event_index_list])),\"longitude\":float(df.Longitude[event_index]), \"latitude\":float(df.Latitude[event_index]), \"timestamp\":float(df.TimeStampUnix[event_index]), \"timestampList\":df.TimeStampUnix[event_index_list].tolist()}]\n",
    "    return event_list"
   ]
  },
  {
   "cell_type": "code",
   "execution_count": 57,
   "id": "ab778e48",
   "metadata": {},
   "outputs": [
    {
     "data": {
      "text/plain": [
       "[]"
      ]
     },
     "execution_count": 57,
     "metadata": {},
     "output_type": "execute_result"
    }
   ],
   "source": [
    "get_steputurn(df)"
   ]
  },
  {
   "cell_type": "code",
   "execution_count": 58,
   "id": "5710eff1",
   "metadata": {},
   "outputs": [],
   "source": [
    "get_stepgas_idx = get_stepgas(df)\n",
    "get_suddendepature_idx = get_suddendepature(df)\n",
    "get_suddendecel_idx = get_suddendecel(df)\n",
    "get_suddenstop_idx = get_suddenstop(df)\n",
    "get_stepsteer_idx_1 = get_stepsteer(df,'left')\n",
    "get_stepsteer_idx_2 = get_stepsteer(df,'right')\n",
    "get_takeover_idx = get_takeover(df)\n",
    "get_suddenturn_idx = get_suddenturn(df)\n",
    "get_steputurn_idx = get_steputurn(df)"
   ]
  },
  {
   "cell_type": "code",
   "execution_count": 59,
   "id": "73fd7c48",
   "metadata": {},
   "outputs": [
    {
     "data": {
      "text/plain": [
       "54952"
      ]
     },
     "execution_count": 59,
     "metadata": {},
     "output_type": "execute_result"
    }
   ],
   "source": [
    "len(df)"
   ]
  },
  {
   "cell_type": "code",
   "execution_count": 60,
   "id": "c2815f10",
   "metadata": {},
   "outputs": [
    {
     "data": {
      "text/plain": [
       "10971"
      ]
     },
     "execution_count": 60,
     "metadata": {},
     "output_type": "execute_result"
    }
   ],
   "source": [
    "cat = np.zeros(len(df))\n",
    "cat[get_stepgas_idx] = 1\n",
    "cat[get_suddendepature_idx] = 2\n",
    "cat[get_suddendecel_idx] = 3\n",
    "cat[get_suddenstop_idx] = 4\n",
    "cat[get_takeover_idx] = 7\n",
    "cat[get_suddenturn_idx] = 8\n",
    "cat[get_steputurn_idx] = 9\n",
    "cat[get_stepsteer_idx_1] = 5\n",
    "cat[get_stepsteer_idx_2] = 6\n",
    "np.count_nonzero(cat)"
   ]
  },
  {
   "cell_type": "code",
   "execution_count": 61,
   "id": "6c8770ce",
   "metadata": {},
   "outputs": [
    {
     "data": {
      "text/html": [
       "<div>\n",
       "<style scoped>\n",
       "    .dataframe tbody tr th:only-of-type {\n",
       "        vertical-align: middle;\n",
       "    }\n",
       "\n",
       "    .dataframe tbody tr th {\n",
       "        vertical-align: top;\n",
       "    }\n",
       "\n",
       "    .dataframe thead th {\n",
       "        text-align: right;\n",
       "    }\n",
       "</style>\n",
       "<table border=\"1\" class=\"dataframe\">\n",
       "  <thead>\n",
       "    <tr style=\"text-align: right;\">\n",
       "      <th></th>\n",
       "      <th>Var1</th>\n",
       "      <th>TimeStamp</th>\n",
       "      <th>TQI_TCU_INC</th>\n",
       "      <th>G_SEL_DISP</th>\n",
       "      <th>F_TCU</th>\n",
       "      <th>TCU_TYPE</th>\n",
       "      <th>TCU_OBD</th>\n",
       "      <th>SWI_GS</th>\n",
       "      <th>GEAR_TYPE</th>\n",
       "      <th>TQI_TCU</th>\n",
       "      <th>...</th>\n",
       "      <th>Speed</th>\n",
       "      <th>Heading</th>\n",
       "      <th>positionFix</th>\n",
       "      <th>pDOP</th>\n",
       "      <th>hAcc</th>\n",
       "      <th>timeFix</th>\n",
       "      <th>numSV</th>\n",
       "      <th>Distance</th>\n",
       "      <th>lateral_offset</th>\n",
       "      <th>maneuver</th>\n",
       "    </tr>\n",
       "  </thead>\n",
       "  <tbody>\n",
       "    <tr>\n",
       "      <th>0</th>\n",
       "      <td>0</td>\n",
       "      <td>1.648695e+09</td>\n",
       "      <td>NaN</td>\n",
       "      <td>NaN</td>\n",
       "      <td>NaN</td>\n",
       "      <td>NaN</td>\n",
       "      <td>NaN</td>\n",
       "      <td>NaN</td>\n",
       "      <td>NaN</td>\n",
       "      <td>NaN</td>\n",
       "      <td>...</td>\n",
       "      <td>0.000000e+00</td>\n",
       "      <td>NaN</td>\n",
       "      <td>NaN</td>\n",
       "      <td>NaN</td>\n",
       "      <td>NaN</td>\n",
       "      <td>NaN</td>\n",
       "      <td>NaN</td>\n",
       "      <td>0.00000</td>\n",
       "      <td>0.036201</td>\n",
       "      <td>0.0</td>\n",
       "    </tr>\n",
       "    <tr>\n",
       "      <th>1</th>\n",
       "      <td>1</td>\n",
       "      <td>1.648695e+09</td>\n",
       "      <td>0.0</td>\n",
       "      <td>5.0</td>\n",
       "      <td>0.0</td>\n",
       "      <td>1.0</td>\n",
       "      <td>0.0</td>\n",
       "      <td>1.0</td>\n",
       "      <td>8.0</td>\n",
       "      <td>99.609375</td>\n",
       "      <td>...</td>\n",
       "      <td>5.293720e+07</td>\n",
       "      <td>144.41330</td>\n",
       "      <td>1.0</td>\n",
       "      <td>14.0</td>\n",
       "      <td>9.0</td>\n",
       "      <td>1.0</td>\n",
       "      <td>16.0</td>\n",
       "      <td>0.55860</td>\n",
       "      <td>0.023580</td>\n",
       "      <td>3.0</td>\n",
       "    </tr>\n",
       "    <tr>\n",
       "      <th>2</th>\n",
       "      <td>2</td>\n",
       "      <td>1.648695e+09</td>\n",
       "      <td>0.0</td>\n",
       "      <td>5.0</td>\n",
       "      <td>0.0</td>\n",
       "      <td>1.0</td>\n",
       "      <td>0.0</td>\n",
       "      <td>1.0</td>\n",
       "      <td>8.0</td>\n",
       "      <td>99.609375</td>\n",
       "      <td>...</td>\n",
       "      <td>5.296089e+07</td>\n",
       "      <td>145.16798</td>\n",
       "      <td>1.0</td>\n",
       "      <td>14.0</td>\n",
       "      <td>9.0</td>\n",
       "      <td>1.0</td>\n",
       "      <td>16.0</td>\n",
       "      <td>1.67605</td>\n",
       "      <td>0.016444</td>\n",
       "      <td>3.0</td>\n",
       "    </tr>\n",
       "    <tr>\n",
       "      <th>3</th>\n",
       "      <td>3</td>\n",
       "      <td>1.648695e+09</td>\n",
       "      <td>0.0</td>\n",
       "      <td>5.0</td>\n",
       "      <td>0.0</td>\n",
       "      <td>1.0</td>\n",
       "      <td>0.0</td>\n",
       "      <td>1.0</td>\n",
       "      <td>8.0</td>\n",
       "      <td>99.609375</td>\n",
       "      <td>...</td>\n",
       "      <td>5.298458e+07</td>\n",
       "      <td>145.51950</td>\n",
       "      <td>1.0</td>\n",
       "      <td>14.0</td>\n",
       "      <td>9.0</td>\n",
       "      <td>1.0</td>\n",
       "      <td>16.0</td>\n",
       "      <td>2.79400</td>\n",
       "      <td>0.013939</td>\n",
       "      <td>3.0</td>\n",
       "    </tr>\n",
       "    <tr>\n",
       "      <th>4</th>\n",
       "      <td>4</td>\n",
       "      <td>1.648695e+09</td>\n",
       "      <td>0.0</td>\n",
       "      <td>5.0</td>\n",
       "      <td>0.0</td>\n",
       "      <td>1.0</td>\n",
       "      <td>0.0</td>\n",
       "      <td>1.0</td>\n",
       "      <td>8.0</td>\n",
       "      <td>99.609375</td>\n",
       "      <td>...</td>\n",
       "      <td>5.288034e+07</td>\n",
       "      <td>145.33434</td>\n",
       "      <td>1.0</td>\n",
       "      <td>13.0</td>\n",
       "      <td>10.0</td>\n",
       "      <td>1.0</td>\n",
       "      <td>16.0</td>\n",
       "      <td>3.91110</td>\n",
       "      <td>0.015211</td>\n",
       "      <td>3.0</td>\n",
       "    </tr>\n",
       "    <tr>\n",
       "      <th>...</th>\n",
       "      <td>...</td>\n",
       "      <td>...</td>\n",
       "      <td>...</td>\n",
       "      <td>...</td>\n",
       "      <td>...</td>\n",
       "      <td>...</td>\n",
       "      <td>...</td>\n",
       "      <td>...</td>\n",
       "      <td>...</td>\n",
       "      <td>...</td>\n",
       "      <td>...</td>\n",
       "      <td>...</td>\n",
       "      <td>...</td>\n",
       "      <td>...</td>\n",
       "      <td>...</td>\n",
       "      <td>...</td>\n",
       "      <td>...</td>\n",
       "      <td>...</td>\n",
       "      <td>...</td>\n",
       "      <td>...</td>\n",
       "      <td>...</td>\n",
       "    </tr>\n",
       "    <tr>\n",
       "      <th>54947</th>\n",
       "      <td>54947</td>\n",
       "      <td>1.648701e+09</td>\n",
       "      <td>0.0</td>\n",
       "      <td>5.0</td>\n",
       "      <td>0.0</td>\n",
       "      <td>1.0</td>\n",
       "      <td>0.0</td>\n",
       "      <td>0.0</td>\n",
       "      <td>8.0</td>\n",
       "      <td>99.609375</td>\n",
       "      <td>...</td>\n",
       "      <td>1.112430e+08</td>\n",
       "      <td>0.01079</td>\n",
       "      <td>1.0</td>\n",
       "      <td>16.0</td>\n",
       "      <td>6.0</td>\n",
       "      <td>1.0</td>\n",
       "      <td>16.0</td>\n",
       "      <td>54636.58049</td>\n",
       "      <td>-4.791561</td>\n",
       "      <td>6.0</td>\n",
       "    </tr>\n",
       "    <tr>\n",
       "      <th>54948</th>\n",
       "      <td>54948</td>\n",
       "      <td>1.648701e+09</td>\n",
       "      <td>0.0</td>\n",
       "      <td>5.0</td>\n",
       "      <td>0.0</td>\n",
       "      <td>1.0</td>\n",
       "      <td>0.0</td>\n",
       "      <td>0.0</td>\n",
       "      <td>8.0</td>\n",
       "      <td>99.609375</td>\n",
       "      <td>...</td>\n",
       "      <td>1.115794e+08</td>\n",
       "      <td>0.16694</td>\n",
       "      <td>1.0</td>\n",
       "      <td>16.0</td>\n",
       "      <td>6.0</td>\n",
       "      <td>1.0</td>\n",
       "      <td>16.0</td>\n",
       "      <td>54638.93458</td>\n",
       "      <td>0.000000</td>\n",
       "      <td>6.0</td>\n",
       "    </tr>\n",
       "    <tr>\n",
       "      <th>54949</th>\n",
       "      <td>54949</td>\n",
       "      <td>1.648701e+09</td>\n",
       "      <td>0.0</td>\n",
       "      <td>5.0</td>\n",
       "      <td>0.0</td>\n",
       "      <td>1.0</td>\n",
       "      <td>0.0</td>\n",
       "      <td>0.0</td>\n",
       "      <td>8.0</td>\n",
       "      <td>99.609375</td>\n",
       "      <td>...</td>\n",
       "      <td>1.112145e+08</td>\n",
       "      <td>0.12313</td>\n",
       "      <td>1.0</td>\n",
       "      <td>16.0</td>\n",
       "      <td>6.0</td>\n",
       "      <td>1.0</td>\n",
       "      <td>16.0</td>\n",
       "      <td>54641.28245</td>\n",
       "      <td>0.000000</td>\n",
       "      <td>6.0</td>\n",
       "    </tr>\n",
       "    <tr>\n",
       "      <th>54950</th>\n",
       "      <td>54950</td>\n",
       "      <td>1.648701e+09</td>\n",
       "      <td>0.0</td>\n",
       "      <td>5.0</td>\n",
       "      <td>0.0</td>\n",
       "      <td>1.0</td>\n",
       "      <td>0.0</td>\n",
       "      <td>0.0</td>\n",
       "      <td>8.0</td>\n",
       "      <td>99.609375</td>\n",
       "      <td>...</td>\n",
       "      <td>1.110061e+08</td>\n",
       "      <td>0.11534</td>\n",
       "      <td>1.0</td>\n",
       "      <td>16.0</td>\n",
       "      <td>6.0</td>\n",
       "      <td>1.0</td>\n",
       "      <td>16.0</td>\n",
       "      <td>54643.62559</td>\n",
       "      <td>0.000000</td>\n",
       "      <td>6.0</td>\n",
       "    </tr>\n",
       "    <tr>\n",
       "      <th>54951</th>\n",
       "      <td>54951</td>\n",
       "      <td>1.648701e+09</td>\n",
       "      <td>0.0</td>\n",
       "      <td>5.0</td>\n",
       "      <td>0.0</td>\n",
       "      <td>1.0</td>\n",
       "      <td>0.0</td>\n",
       "      <td>0.0</td>\n",
       "      <td>8.0</td>\n",
       "      <td>99.609375</td>\n",
       "      <td>...</td>\n",
       "      <td>1.109824e+08</td>\n",
       "      <td>0.16904</td>\n",
       "      <td>1.0</td>\n",
       "      <td>14.0</td>\n",
       "      <td>6.0</td>\n",
       "      <td>1.0</td>\n",
       "      <td>16.0</td>\n",
       "      <td>54645.96789</td>\n",
       "      <td>0.000000</td>\n",
       "      <td>6.0</td>\n",
       "    </tr>\n",
       "  </tbody>\n",
       "</table>\n",
       "<p>54952 rows × 298 columns</p>\n",
       "</div>"
      ],
      "text/plain": [
       "        Var1     TimeStamp  TQI_TCU_INC  G_SEL_DISP  F_TCU  TCU_TYPE  TCU_OBD  \\\n",
       "0          0  1.648695e+09          NaN         NaN    NaN       NaN      NaN   \n",
       "1          1  1.648695e+09          0.0         5.0    0.0       1.0      0.0   \n",
       "2          2  1.648695e+09          0.0         5.0    0.0       1.0      0.0   \n",
       "3          3  1.648695e+09          0.0         5.0    0.0       1.0      0.0   \n",
       "4          4  1.648695e+09          0.0         5.0    0.0       1.0      0.0   \n",
       "...      ...           ...          ...         ...    ...       ...      ...   \n",
       "54947  54947  1.648701e+09          0.0         5.0    0.0       1.0      0.0   \n",
       "54948  54948  1.648701e+09          0.0         5.0    0.0       1.0      0.0   \n",
       "54949  54949  1.648701e+09          0.0         5.0    0.0       1.0      0.0   \n",
       "54950  54950  1.648701e+09          0.0         5.0    0.0       1.0      0.0   \n",
       "54951  54951  1.648701e+09          0.0         5.0    0.0       1.0      0.0   \n",
       "\n",
       "       SWI_GS  GEAR_TYPE    TQI_TCU  ...         Speed    Heading  \\\n",
       "0         NaN        NaN        NaN  ...  0.000000e+00        NaN   \n",
       "1         1.0        8.0  99.609375  ...  5.293720e+07  144.41330   \n",
       "2         1.0        8.0  99.609375  ...  5.296089e+07  145.16798   \n",
       "3         1.0        8.0  99.609375  ...  5.298458e+07  145.51950   \n",
       "4         1.0        8.0  99.609375  ...  5.288034e+07  145.33434   \n",
       "...       ...        ...        ...  ...           ...        ...   \n",
       "54947     0.0        8.0  99.609375  ...  1.112430e+08    0.01079   \n",
       "54948     0.0        8.0  99.609375  ...  1.115794e+08    0.16694   \n",
       "54949     0.0        8.0  99.609375  ...  1.112145e+08    0.12313   \n",
       "54950     0.0        8.0  99.609375  ...  1.110061e+08    0.11534   \n",
       "54951     0.0        8.0  99.609375  ...  1.109824e+08    0.16904   \n",
       "\n",
       "       positionFix  pDOP  hAcc  timeFix  numSV     Distance  lateral_offset  \\\n",
       "0              NaN   NaN   NaN      NaN    NaN      0.00000        0.036201   \n",
       "1              1.0  14.0   9.0      1.0   16.0      0.55860        0.023580   \n",
       "2              1.0  14.0   9.0      1.0   16.0      1.67605        0.016444   \n",
       "3              1.0  14.0   9.0      1.0   16.0      2.79400        0.013939   \n",
       "4              1.0  13.0  10.0      1.0   16.0      3.91110        0.015211   \n",
       "...            ...   ...   ...      ...    ...          ...             ...   \n",
       "54947          1.0  16.0   6.0      1.0   16.0  54636.58049       -4.791561   \n",
       "54948          1.0  16.0   6.0      1.0   16.0  54638.93458        0.000000   \n",
       "54949          1.0  16.0   6.0      1.0   16.0  54641.28245        0.000000   \n",
       "54950          1.0  16.0   6.0      1.0   16.0  54643.62559        0.000000   \n",
       "54951          1.0  14.0   6.0      1.0   16.0  54645.96789        0.000000   \n",
       "\n",
       "       maneuver  \n",
       "0           0.0  \n",
       "1           3.0  \n",
       "2           3.0  \n",
       "3           3.0  \n",
       "4           3.0  \n",
       "...         ...  \n",
       "54947       6.0  \n",
       "54948       6.0  \n",
       "54949       6.0  \n",
       "54950       6.0  \n",
       "54951       6.0  \n",
       "\n",
       "[54952 rows x 298 columns]"
      ]
     },
     "execution_count": 61,
     "metadata": {},
     "output_type": "execute_result"
    }
   ],
   "source": [
    "df['maneuver'] = cat\n",
    "df"
   ]
  },
  {
   "cell_type": "code",
   "execution_count": 62,
   "id": "eeade6cc",
   "metadata": {},
   "outputs": [],
   "source": [
    "df.to_csv(file_path + 'data_10Hz_labeled.csv')"
   ]
  }
 ],
 "metadata": {
  "kernelspec": {
   "display_name": "Python 3.8.13 ('py38')",
   "language": "python",
   "name": "python3"
  },
  "language_info": {
   "codemirror_mode": {
    "name": "ipython",
    "version": 3
   },
   "file_extension": ".py",
   "mimetype": "text/x-python",
   "name": "python",
   "nbconvert_exporter": "python",
   "pygments_lexer": "ipython3",
   "version": "3.8.13"
  },
  "vscode": {
   "interpreter": {
    "hash": "2e34963b9aa1c0ebb4812a7f2a57632eb232e24c7240576deb31ccfc1dcd81fa"
   }
  }
 },
 "nbformat": 4,
 "nbformat_minor": 5
}
