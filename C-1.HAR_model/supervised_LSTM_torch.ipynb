{
 "cells": [
  {
   "attachments": {},
   "cell_type": "markdown",
   "id": "871d245c-bf71-4409-9757-c9c246bd72d8",
   "metadata": {},
   "source": [
    "## HAR_LSTM model \n",
    "#### Add LC candidate from matlab as feature"
   ]
  },
  {
   "cell_type": "code",
   "execution_count": 1,
   "id": "3422c2eb-56f7-4017-9d7e-e7b11089b756",
   "metadata": {},
   "outputs": [
    {
     "name": "stderr",
     "output_type": "stream",
     "text": [
      "c:\\Users\\hankk\\Miniconda3\\envs\\py38\\lib\\site-packages\\tqdm\\auto.py:22: TqdmWarning: IProgress not found. Please update jupyter and ipywidgets. See https://ipywidgets.readthedocs.io/en/stable/user_install.html\n",
      "  from .autonotebook import tqdm as notebook_tqdm\n"
     ]
    }
   ],
   "source": [
    "import pandas as pd \n",
    "import numpy as np\n",
    "import torch\n",
    "import torch.nn as nn\n",
    "from torch import optim\n",
    "import torch.nn.functional as F\n",
    "import matplotlib.pyplot as plt\n",
    "import os\n",
    "import pickle\n",
    "from torch.autograd import Variable\n",
    "from sklearn.preprocessing import LabelEncoder, OneHotEncoder, StandardScaler, MinMaxScaler\n",
    "from sklearn.metrics import precision_score, recall_score, f1_score, accuracy_score \n",
    "from sklearn.metrics import classification_report\n",
    "\n",
    "seed = 7\n",
    "np.random.seed(seed)"
   ]
  },
  {
   "cell_type": "code",
   "execution_count": 2,
   "id": "ec6074a9",
   "metadata": {},
   "outputs": [],
   "source": [
    "file_path = '../Data/'\n",
    "gpu_use = 'single' ## 'multi', 'single'\n",
    "gpu_num = 0"
   ]
  },
  {
   "cell_type": "code",
   "execution_count": 3,
   "id": "de386dfa-f747-4ad8-b144-3b4d7e79900c",
   "metadata": {},
   "outputs": [],
   "source": [
    "## multi-GPU\n",
    "if gpu_use == 'multi':\n",
    "    NGPU = torch.cuda.device_count()\n",
    "    device = torch.device(\"cuda\" if torch.cuda.is_available() else \"cpu\")\n",
    "\n",
    "## single-GPU\n",
    "elif gpu_use == 'single':\n",
    "    device = torch.device(\"cuda:{}\".format(gpu_num) if torch.cuda.is_available() else \"cpu\")"
   ]
  },
  {
   "cell_type": "code",
   "execution_count": 4,
   "id": "551e346e-2d54-4e7b-add9-8ef68eb97e0f",
   "metadata": {},
   "outputs": [],
   "source": [
    "## Load_data\n",
    "with open(file_path + 'data_no_std.pkl', 'rb') as f:\n",
    "     dataset = pickle.load(f)\n",
    "\n",
    "train_X = dataset[0]\n",
    "test_X = dataset[1]\n",
    "train_y = dataset[2]\n",
    "test_y = dataset[3]"
   ]
  },
  {
   "cell_type": "code",
   "execution_count": 5,
   "id": "79e82b1e-c85d-423c-91dc-3d2a372a801b",
   "metadata": {},
   "outputs": [
    {
     "name": "stdout",
     "output_type": "stream",
     "text": [
      "(2746, 32, 13)\n",
      "(687, 32, 13)\n",
      "(2746,)\n",
      "(687,)\n"
     ]
    }
   ],
   "source": [
    "print(train_X.shape)\n",
    "print(test_X.shape)\n",
    "print(train_y.shape)\n",
    "print(test_y.shape)"
   ]
  },
  {
   "attachments": {},
   "cell_type": "markdown",
   "id": "3ec00d32-b7b7-45df-8bfe-f497a0340d25",
   "metadata": {},
   "source": [
    "### Model description\n",
    "\n",
    "- InputLayer (32(timeseries_length)* 13(features))\n",
    "- LSTM (13*3) or 3times the amount of channel\n",
    "- Dropout(0.3)\n",
    "- LSTM (13*3)\n",
    "- Dense (5)  class num "
   ]
  },
  {
   "cell_type": "code",
   "execution_count": 6,
   "id": "26c868c3-cf65-42dd-a3a7-3de1d6bd84c1",
   "metadata": {},
   "outputs": [],
   "source": [
    "## set model(LSTM supervised)\n",
    "\n",
    "class stacked_LSTM(nn.Module):\n",
    "    def __init__(self, in_channel, out_channel):\n",
    "        super(stacked_LSTM, self).__init__()\n",
    "\n",
    "        self.lstm = nn.LSTM(input_size = in_channel,\n",
    "                            hidden_size= 13*3,\n",
    "                            num_layers=2,\n",
    "                            bias=True,\n",
    "                            bidirectional=False,\n",
    "                            batch_first=True,\n",
    "                            dropout = 0.3)    ## dropout works except last cell\n",
    "\n",
    "        self.dense = nn.Linear(13*3, out_channel)\n",
    "\n",
    "    def forward(self, x):\n",
    "\t# Raw x shape : (B, S, F) => (B, 32, 30)\n",
    "    \n",
    "        self.lstm.flatten_parameters()\n",
    "        # Shape : (B, S, H) // H = hidden_size => (B, 64, 128)\n",
    "        output, (num_layers, hidden_state) = self.lstm(x)\n",
    "        x = output[:,-1,:]\n",
    "        # Shape : (B, O) // O = output => (B, 14)\n",
    "        x = self.dense(x)\n",
    "        \n",
    "        return x"
   ]
  },
  {
   "cell_type": "code",
   "execution_count": 7,
   "id": "2d85c76b-3368-4b09-a431-28e1b6854fa4",
   "metadata": {},
   "outputs": [
    {
     "name": "stdout",
     "output_type": "stream",
     "text": [
      "Epoch: 0, loss:1.531743049621582\n",
      "Epoch: 50, loss:0.4946631193161011\n",
      "Epoch: 100, loss:0.23015271127223969\n",
      "Epoch: 150, loss:0.15053263306617737\n",
      "Epoch: 200, loss:0.11811041831970215\n",
      "Epoch: 250, loss:0.12733104825019836\n",
      "Epoch: 300, loss:0.1101853996515274\n",
      "Epoch: 350, loss:0.09268595278263092\n",
      "Epoch: 400, loss:0.07905425131320953\n",
      "Epoch: 450, loss:0.06888806074857712\n",
      "Epoch: 500, loss:0.06582445651292801\n",
      "Epoch: 550, loss:0.05811451002955437\n",
      "Epoch: 600, loss:0.05812787264585495\n",
      "Epoch: 650, loss:0.06549841165542603\n",
      "Epoch: 700, loss:0.03625073283910751\n",
      "Epoch: 750, loss:0.03788955882191658\n",
      "Epoch: 800, loss:0.024592630565166473\n",
      "Epoch: 850, loss:0.04577779024839401\n",
      "Epoch: 900, loss:0.0333087332546711\n",
      "Epoch: 950, loss:0.039357710629701614\n",
      "Epoch: 1000, loss:0.01874730922281742\n",
      "Epoch: 1050, loss:0.024975208565592766\n",
      "Epoch: 1100, loss:0.017265385016798973\n",
      "Epoch: 1150, loss:0.030251186341047287\n",
      "Epoch: 1200, loss:0.0361485555768013\n",
      "Epoch: 1250, loss:0.01456370484083891\n",
      "Epoch: 1300, loss:0.015769915655255318\n",
      "Epoch: 1350, loss:0.03715910762548447\n",
      "Epoch: 1400, loss:0.018846295773983\n",
      "Epoch: 1450, loss:0.014641751535236835\n",
      "Epoch: 1500, loss:0.051843639463186264\n",
      "Epoch: 1550, loss:0.030456358566880226\n",
      "Epoch: 1600, loss:0.020486822351813316\n",
      "Epoch: 1650, loss:0.011633663438260555\n",
      "Epoch: 1700, loss:0.011178764514625072\n",
      "Epoch: 1750, loss:0.021770214661955833\n",
      "Epoch: 1800, loss:0.10813045501708984\n",
      "Epoch: 1850, loss:0.007404187228530645\n",
      "Epoch: 1900, loss:0.005967934150248766\n",
      "Epoch: 1950, loss:0.011126686818897724\n"
     ]
    }
   ],
   "source": [
    "## model training \n",
    "\n",
    "from tqdm import tqdm\n",
    "from torch.utils.data import TensorDataset, DataLoader\n",
    "\n",
    "train_X = torch.Tensor(train_X)\n",
    "train_y = torch.Tensor(train_y)\n",
    "test_X = torch.Tensor(test_X)\n",
    "test_y = torch.Tensor(test_y)\n",
    "\n",
    "# dataset = TensorDataset(X,y)\n",
    "dataset = TensorDataset(train_X,train_y)\n",
    "loader = DataLoader(dataset, batch_size = 1000, shuffle=True, drop_last=False)\n",
    "\n",
    "num_epochs = 2000\n",
    "lr = 0.002\n",
    "\n",
    "in_channel=13 ##feature num\n",
    "out_channel=5 ##output class\n",
    "\n",
    "## multi GPU    \n",
    "if gpu_use == 'multi':\n",
    "    model = stacked_LSTM(in_channel, out_channel)\n",
    "    if NGPU > 1:\n",
    "        model = nn.DataParallel(model, device_ids = list(range(NGPU)))\n",
    "    # torch.multiprocessing.set_start_method('spawn')\n",
    "    model.to(device)\n",
    "\n",
    "## single GPU\n",
    "elif gpu_use == 'single':\n",
    "    model = stacked_LSTM(in_channel, out_channel).to(device)\n",
    "\n",
    "criterion = nn.CrossEntropyLoss().to(device) #Loss for multiclass classification\n",
    "optimizer = optim.Adam(model.parameters(), lr=lr) #optimizer SGD\n",
    "\n",
    "#Train the model\n",
    "for epoch in range(num_epochs):\n",
    "    for train_X,train_y in loader:\n",
    "        train_X = train_X.to(device)\n",
    "        train_y = train_y.type(torch.LongTensor)\n",
    "        train_y = train_y.to(device)\n",
    "        outputs = model(train_X)\n",
    "        # obtain loss function\n",
    "        loss = criterion(outputs, train_y)\n",
    "        optimizer.zero_grad()\n",
    "        loss.backward()\n",
    "        optimizer.step()\n",
    "    \n",
    "    if epoch % 50 == 0:\n",
    "        print(\"Epoch: {}, loss:{}\".format(epoch, loss.item()))"
   ]
  },
  {
   "cell_type": "code",
   "execution_count": 8,
   "id": "9b0c06ba-8cb8-4747-aafc-6e2f46ad370d",
   "metadata": {},
   "outputs": [
    {
     "name": "stdout",
     "output_type": "stream",
     "text": [
      "tensor([[  6.5586,  -6.1775,  -4.6757,  -2.5267,  -5.7198],\n",
      "        [  0.1649,  -5.6534,   6.2550,  -5.7103,  -5.8489],\n",
      "        [  6.4563,  -7.7039,  -2.5512,  -5.7735,  -5.0353],\n",
      "        ...,\n",
      "        [ 10.4786,  -5.7973,  -3.8233,  -9.2231, -15.0252],\n",
      "        [ -1.1778,  -7.3146,   8.5912,  -5.0167,  -4.4561],\n",
      "        [ -0.1777,  -4.5564,   6.0482,  -6.6269,  -4.8928]])\n",
      "torch.Size([687, 5])\n"
     ]
    }
   ],
   "source": [
    "## Inference for test data \n",
    "\n",
    "with torch.no_grad(): #off the autograd / memory 절약, calculation speed up \n",
    "    model.eval() #dropout layer와 같이 training / inference 시에 다르게 동작하는 layer를 inference(eval) mode로 바꾸어줌 \n",
    "    inputs = test_X.to(device)\n",
    "    outputs = model(inputs)\n",
    "    print(outputs)\n",
    "    print(outputs.shape)"
   ]
  },
  {
   "cell_type": "code",
   "execution_count": 9,
   "id": "b520d92d-f270-46ee-a05c-7495fd834b44",
   "metadata": {},
   "outputs": [
    {
     "name": "stdout",
     "output_type": "stream",
     "text": [
      "tensor([[1., 0., 0., 0., 0.],\n",
      "        [0., 0., 1., 0., 0.],\n",
      "        [1., 0., 0., 0., 0.],\n",
      "        ...,\n",
      "        [1., 0., 0., 0., 0.],\n",
      "        [0., 0., 1., 0., 0.],\n",
      "        [0., 0., 1., 0., 0.]])\n"
     ]
    }
   ],
   "source": [
    "print(torch.round(F.softmax(outputs, dim=1), decimals=2)) #to represent as prob for each label\n",
    "pred = outputs.argmax(1).cpu().numpy() #torch tensor to numpy array obj "
   ]
  },
  {
   "cell_type": "code",
   "execution_count": 10,
   "id": "3c7a8f2a-abf4-41fc-87d5-897b003a997e",
   "metadata": {},
   "outputs": [],
   "source": [
    "# ### Model save and load by pytorch\n",
    "# path = 'saved_model/'\n",
    "\n",
    "# ## model save (architecture + param)\n",
    "# torch.save(model, path+'stacked_LSTM_supervised.pt')\n",
    "\n",
    "# ## model save (only param)\n",
    "# torch.save(model.state_dict(), path+'stacked_LSTM_supervised_param.pt')\n",
    "\n",
    "# ## model load (architecture + param)\n",
    "# torch.load(path+'stacked_LSTM_supervised.pt')\n",
    "\n",
    "# ## model load(only param , for same model structure )\n",
    "# new_model = model #conv1d_lstm model structure\n",
    "# new_model.load_state_dict(torch.load(path+'stacked_LSTM_supervised_param.pt'))"
   ]
  },
  {
   "cell_type": "code",
   "execution_count": 11,
   "id": "cfee83a4-062f-4b91-a02b-505e71d63b84",
   "metadata": {},
   "outputs": [
    {
     "name": "stdout",
     "output_type": "stream",
     "text": [
      "accuracy:0.9315866084425036\n",
      "Precision: 0.753663\n",
      "Recall: 0.674727\n",
      "F1 score: 0.709045\n"
     ]
    },
    {
     "data": {
      "text/plain": [
       "<sklearn.metrics._plot.confusion_matrix.ConfusionMatrixDisplay at 0x1e2700c8b80>"
      ]
     },
     "execution_count": 11,
     "metadata": {},
     "output_type": "execute_result"
    },
    {
     "data": {
      "image/png": "[encoded data removed]",
      "text/plain": [
       "<Figure size 640x480 with 2 Axes>"
      ]
     },
     "metadata": {},
     "output_type": "display_data"
    }
   ],
   "source": [
    "## model evaluation by test set \n",
    "\n",
    "oos_y = []\n",
    "oos_pred = []\n",
    "\n",
    "test_y.numpy()\n",
    "oos_y.append(test_y)\n",
    "oos_pred.append(pred)\n",
    "y_compare = test_y\n",
    "\n",
    "\n",
    "score = accuracy_score(y_compare, pred)\n",
    "print(\"accuracy:{}\".format(score))\n",
    "precision = precision_score(y_compare, pred, average='macro')\n",
    "print('Precision: %f' % precision)\n",
    "recall = recall_score(y_compare, pred, average='macro')\n",
    "print('Recall: %f' % recall)\n",
    "f1 = f1_score(y_compare, pred, average='macro')\n",
    "print('F1 score: %f' % f1)\n",
    "\n",
    "from sklearn.metrics import confusion_matrix, ConfusionMatrixDisplay\n",
    "\n",
    "cm = confusion_matrix(y_compare, pred)\n",
    "disp = ConfusionMatrixDisplay(confusion_matrix=cm)\n",
    "disp.plot()"
   ]
  },
  {
   "cell_type": "code",
   "execution_count": 12,
   "id": "ea5bdba2-9502-42fe-b251-9e043b240adb",
   "metadata": {},
   "outputs": [
    {
     "name": "stdout",
     "output_type": "stream",
     "text": [
      "              precision    recall  f1-score   support\n",
      "\n",
      "         0.0       0.95      0.98      0.96       554\n",
      "         1.0       0.40      0.40      0.40         5\n",
      "         2.0       0.93      0.84      0.88        81\n",
      "         3.0       0.84      0.70      0.76        23\n",
      "         4.0       0.65      0.46      0.54        24\n",
      "\n",
      "    accuracy                           0.93       687\n",
      "   macro avg       0.75      0.67      0.71       687\n",
      "weighted avg       0.93      0.93      0.93       687\n",
      "\n"
     ]
    }
   ],
   "source": [
    "print(classification_report(test_y, pred))"
   ]
  },
  {
   "cell_type": "code",
   "execution_count": 13,
   "id": "2edaf5b9-6c10-4ff3-b524-0976fed5628b",
   "metadata": {},
   "outputs": [],
   "source": [
    "## labels = ['unlabeled', 'acc', 'dec', 'lc_left', 'lc_right']"
   ]
  },
  {
   "cell_type": "code",
   "execution_count": 14,
   "id": "b06670f0-3f19-4a14-a02a-cc7b58ec421e",
   "metadata": {},
   "outputs": [
    {
     "name": "stdout",
     "output_type": "stream",
     "text": [
      "stacked_LSTM(\n",
      "  (lstm): LSTM(13, 39, num_layers=2, batch_first=True, dropout=0.3)\n",
      "  (dense): Linear(in_features=39, out_features=5, bias=True)\n",
      ")\n"
     ]
    }
   ],
   "source": [
    "print(model)"
   ]
  },
  {
   "cell_type": "code",
   "execution_count": 15,
   "id": "be5f169c-2362-4af1-ac19-8ea636602112",
   "metadata": {},
   "outputs": [],
   "source": [
    "# pred = pd.DataFrame(pred)\n",
    "# pred.to_csv(\"pred_results/lstm_results.csv\")"
   ]
  }
 ],
 "metadata": {
  "kernelspec": {
   "display_name": "py38",
   "language": "python",
   "name": "python3"
  },
  "language_info": {
   "codemirror_mode": {
    "name": "ipython",
    "version": 3
   },
   "file_extension": ".py",
   "mimetype": "text/x-python",
   "name": "python",
   "nbconvert_exporter": "python",
   "pygments_lexer": "ipython3",
   "version": "3.8.13"
  },
  "vscode": {
   "interpreter": {
    "hash": "2e34963b9aa1c0ebb4812a7f2a57632eb232e24c7240576deb31ccfc1dcd81fa"
   }
  }
 },
 "nbformat": 4,
 "nbformat_minor": 5
}
