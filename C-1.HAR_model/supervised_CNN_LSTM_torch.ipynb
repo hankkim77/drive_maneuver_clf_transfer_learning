{
 "cells": [
  {
   "attachments": {},
   "cell_type": "markdown",
   "id": "871d245c-bf71-4409-9757-c9c246bd72d8",
   "metadata": {},
   "source": [
    "## HAR_CNN_LSTM model \n",
    "#### Add LC candidate from matlab as feature"
   ]
  },
  {
   "cell_type": "code",
   "execution_count": 1,
   "id": "3422c2eb-56f7-4017-9d7e-e7b11089b756",
   "metadata": {},
   "outputs": [
    {
     "name": "stderr",
     "output_type": "stream",
     "text": [
      "c:\\Users\\hankk\\Miniconda3\\envs\\py38\\lib\\site-packages\\tqdm\\auto.py:22: TqdmWarning: IProgress not found. Please update jupyter and ipywidgets. See https://ipywidgets.readthedocs.io/en/stable/user_install.html\n",
      "  from .autonotebook import tqdm as notebook_tqdm\n"
     ]
    }
   ],
   "source": [
    "import pandas as pd \n",
    "import numpy as np\n",
    "import torch\n",
    "import torch.nn as nn\n",
    "from torch import optim\n",
    "import torch.nn.functional as F\n",
    "import matplotlib.pyplot as plt\n",
    "import os\n",
    "import pickle\n",
    "from torch.autograd import Variable\n",
    "from sklearn.preprocessing import LabelEncoder, OneHotEncoder, StandardScaler, MinMaxScaler\n",
    "from sklearn.metrics import precision_score, recall_score, f1_score, accuracy_score \n",
    "from sklearn.metrics import classification_report\n",
    "\n",
    "seed = 7\n",
    "np.random.seed(seed)"
   ]
  },
  {
   "cell_type": "code",
   "execution_count": 2,
   "id": "6bc292ab",
   "metadata": {},
   "outputs": [],
   "source": [
    "file_path = '../Data/'\n",
    "gpu_use = 'single' ## 'multi', 'single'\n",
    "gpu_num = 0"
   ]
  },
  {
   "cell_type": "code",
   "execution_count": 3,
   "id": "de386dfa-f747-4ad8-b144-3b4d7e79900c",
   "metadata": {},
   "outputs": [],
   "source": [
    "## multi-GPU\n",
    "if gpu_use == 'multi':\n",
    "    NGPU = torch.cuda.device_count()\n",
    "    device = torch.device(\"cuda\" if torch.cuda.is_available() else \"cpu\")\n",
    "\n",
    "## single-GPU\n",
    "elif gpu_use == 'single':\n",
    "    device = torch.device(\"cuda:{}\".format(gpu_num) if torch.cuda.is_available() else \"cpu\")"
   ]
  },
  {
   "cell_type": "code",
   "execution_count": 4,
   "id": "551e346e-2d54-4e7b-add9-8ef68eb97e0f",
   "metadata": {},
   "outputs": [],
   "source": [
    "## Load_data\n",
    "with open(file_path + 'data_no_std.pkl', 'rb') as f:\n",
    "     dataset = pickle.load(f)\n",
    "\n",
    "train_X = dataset[0]\n",
    "test_X = dataset[1]\n",
    "train_y = dataset[2]\n",
    "test_y = dataset[3]"
   ]
  },
  {
   "cell_type": "code",
   "execution_count": 5,
   "id": "22b2f940",
   "metadata": {},
   "outputs": [
    {
     "name": "stdout",
     "output_type": "stream",
     "text": [
      "(2746, 32, 13)\n",
      "(687, 32, 13)\n",
      "(2746,)\n",
      "(687,)\n"
     ]
    }
   ],
   "source": [
    "print(train_X.shape)\n",
    "print(test_X.shape)\n",
    "print(train_y.shape)\n",
    "print(test_y.shape)"
   ]
  },
  {
   "attachments": {},
   "cell_type": "markdown",
   "id": "3ec00d32-b7b7-45df-8bfe-f497a0340d25",
   "metadata": {},
   "source": [
    "### Model description\n",
    "\n",
    "- InputLayer (32(timeseries_length)* 13(features))\n",
    "- 1d conv (batch, 32 , 13) -> (batch, 32, 26)\n",
    "- LSTM (32*3) \n",
    "- Dropout(0.5)\n",
    "- LSTM (32*3)\n",
    "- Dense (5)  class num "
   ]
  },
  {
   "cell_type": "code",
   "execution_count": 6,
   "id": "26c868c3-cf65-42dd-a3a7-3de1d6bd84c1",
   "metadata": {},
   "outputs": [],
   "source": [
    "## set model(lstm)\n",
    "\n",
    "class CNN_LSTM(nn.Module):\n",
    "    def __init__(self, in_channel=30, out_channel=11):\n",
    "        super(CNN_LSTM, self).__init__()\n",
    "\n",
    "        self.conv1d = nn.Conv1d(in_channels = in_channel, out_channels = 26, kernel_size = 2, stride = 1 , padding = 'same')\n",
    "        \n",
    "        self.lstm = nn.LSTM(input_size = 26,\n",
    "                            hidden_size=26*3,\n",
    "                            num_layers=2,\n",
    "                            bias=True,\n",
    "                            bidirectional=False,\n",
    "                            batch_first=True, \n",
    "                            dropout = 0.5)    ## dropout works except last lstm cell \n",
    "\n",
    "        self.dense = nn.Linear(26*3, out_channel)\n",
    "\n",
    "    def forward(self, x):\n",
    "\t# Raw x shape : (B, S, F) => (B, 32, 72)\n",
    "        x = x.transpose(1,2)\n",
    "        #  x shape : (B,F,S) => (B, 72,32)\n",
    "        x = self.conv1d(x)\n",
    "        #  x shape : (B,F,S) => (B, 144, 32)\n",
    "        x = x.transpose(1,2)\n",
    "        # x shape : (B,S,F) => (B, 32, 144)\n",
    "        self.lstm.flatten_parameters()\n",
    "        output, (hidden_state, cell_state)  = self.lstm(x)\n",
    "        x = hidden_state[-1]\n",
    "        # Shape : (B, O) // O = output => (B, 6)\n",
    "        x = self.dense(x)\n",
    "        \n",
    "        return x"
   ]
  },
  {
   "cell_type": "code",
   "execution_count": 7,
   "id": "2d85c76b-3368-4b09-a431-28e1b6854fa4",
   "metadata": {},
   "outputs": [
    {
     "name": "stderr",
     "output_type": "stream",
     "text": [
      "c:\\Users\\hankk\\Miniconda3\\envs\\py38\\lib\\site-packages\\torch\\nn\\modules\\conv.py:309: UserWarning: Using padding='same' with even kernel lengths and odd dilation may require a zero-padded copy of the input be created (Triggered internally at C:\\actions-runner\\_work\\pytorch\\pytorch\\builder\\windows\\pytorch\\aten\\src\\ATen\\native\\Convolution.cpp:896.)\n",
      "  return F.conv1d(input, weight, bias, self.stride,\n"
     ]
    },
    {
     "name": "stdout",
     "output_type": "stream",
     "text": [
      "Epoch: 0, loss:1.3175865411758423\n",
      "Epoch: 50, loss:0.5926256775856018\n",
      "Epoch: 100, loss:0.3009205758571625\n",
      "Epoch: 150, loss:0.20181764662265778\n",
      "Epoch: 200, loss:0.16841107606887817\n",
      "Epoch: 250, loss:0.12671227753162384\n",
      "Epoch: 300, loss:0.1025017574429512\n",
      "Epoch: 350, loss:0.07934705913066864\n",
      "Epoch: 400, loss:0.06907763332128525\n",
      "Epoch: 450, loss:0.06986462324857712\n",
      "Epoch: 500, loss:0.04607584699988365\n",
      "Epoch: 550, loss:0.04811374843120575\n",
      "Epoch: 600, loss:0.061217717826366425\n",
      "Epoch: 650, loss:0.043744686990976334\n",
      "Epoch: 700, loss:0.03467126563191414\n",
      "Epoch: 750, loss:0.01879345066845417\n",
      "Epoch: 800, loss:0.024583129212260246\n",
      "Epoch: 850, loss:0.034436363726854324\n",
      "Epoch: 900, loss:0.019708074629306793\n",
      "Epoch: 950, loss:0.020449578762054443\n",
      "Epoch: 1000, loss:0.011176345869898796\n",
      "Epoch: 1050, loss:0.013793949969112873\n",
      "Epoch: 1100, loss:0.013203679583966732\n",
      "Epoch: 1150, loss:0.022638456895947456\n",
      "Epoch: 1200, loss:0.01676793582737446\n",
      "Epoch: 1250, loss:0.003252161666750908\n",
      "Epoch: 1300, loss:0.011795949190855026\n",
      "Epoch: 1350, loss:0.009889725595712662\n",
      "Epoch: 1400, loss:0.014405453577637672\n",
      "Epoch: 1450, loss:0.043760281056165695\n",
      "Epoch: 1500, loss:0.016147704795002937\n",
      "Epoch: 1550, loss:0.0095533961430192\n",
      "Epoch: 1600, loss:0.008148360066115856\n",
      "Epoch: 1650, loss:0.008105556480586529\n",
      "Epoch: 1700, loss:0.006902175024151802\n",
      "Epoch: 1750, loss:0.02364204451441765\n",
      "Epoch: 1800, loss:0.03526730462908745\n",
      "Epoch: 1850, loss:0.005746086128056049\n",
      "Epoch: 1900, loss:0.007544898893684149\n",
      "Epoch: 1950, loss:0.020193040370941162\n"
     ]
    }
   ],
   "source": [
    "## model training \n",
    "\n",
    "from tqdm import tqdm\n",
    "from torch.utils.data import TensorDataset, DataLoader\n",
    "\n",
    "train_X = torch.Tensor(train_X)\n",
    "train_y = torch.Tensor(train_y)\n",
    "test_X = torch.Tensor(test_X)\n",
    "test_y = torch.Tensor(test_y)\n",
    "\n",
    "dataset = TensorDataset(train_X, train_y)\n",
    "loader = DataLoader(dataset, batch_size = 1000, shuffle=True, drop_last=False)\n",
    "\n",
    "num_epochs = 2000\n",
    "lr = 0.002\n",
    "\n",
    "in_channel=13\n",
    "out_channel=5 ##output class\n",
    "\n",
    "## multi GPU    \n",
    "if gpu_use == 'multi':\n",
    "    model = CNN_LSTM(in_channel, out_channel)\n",
    "    if NGPU > 1:\n",
    "        model = nn.DataParallel(model, device_ids = list(range(NGPU)))\n",
    "    # torch.multiprocessing.set_start_method('spawn')\n",
    "    model.to(device)\n",
    "\n",
    "## single GPU\n",
    "elif gpu_use == 'single':\n",
    "    model = CNN_LSTM(in_channel, out_channel).to(device)\n",
    "\n",
    "criterion = nn.CrossEntropyLoss().to(device) #Loss for multiclass classification\n",
    "optimizer = optim.Adam(model.parameters(), lr=lr) #optimizer SGD\n",
    "\n",
    "#Train the model\n",
    "\n",
    "for epoch in range(num_epochs):\n",
    "    for train_X,train_y in loader:\n",
    "        train_X = train_X.to(device)\n",
    "        train_y = train_y.type(torch.LongTensor)\n",
    "        train_y = train_y.to(device)\n",
    "        outputs = model(train_X)\n",
    "        # obtain loss function\n",
    "        loss = criterion(outputs, train_y)\n",
    "        optimizer.zero_grad()\n",
    "        loss.backward()\n",
    "        optimizer.step()\n",
    "    \n",
    "    if epoch % 50 == 0:\n",
    "        print(\"Epoch: {}, loss:{}\".format(epoch, loss.item()))\n"
   ]
  },
  {
   "cell_type": "code",
   "execution_count": 8,
   "id": "9b0c06ba-8cb8-4747-aafc-6e2f46ad370d",
   "metadata": {},
   "outputs": [
    {
     "name": "stdout",
     "output_type": "stream",
     "text": [
      "tensor([[ 10.0864,  -4.9627,  -5.9938,  -5.6858,  -9.5206],\n",
      "        [  0.0700,  -9.7104,   7.8572,  -9.6097,  -7.0784],\n",
      "        [  9.1468,  -7.3454,  -3.8784,  -8.5590, -10.4477],\n",
      "        ...,\n",
      "        [ 11.3570,  -6.8260,  -4.6236, -12.8926, -14.2046],\n",
      "        [ -3.5115, -10.8311,   9.5067,  -7.4393,  -2.3624],\n",
      "        [ -0.8833,  -8.1936,   6.3463, -10.1830,  -1.5530]])\n",
      "torch.Size([687, 5])\n"
     ]
    }
   ],
   "source": [
    "## Inference for test data \n",
    "\n",
    "with torch.no_grad(): #off the autograd / memory 절약, calculation speed up \n",
    "    model.eval() #dropout layer와 같이 training / inference 시에 다르게 동작하는 layer를 inference(eval) mode로 바꾸어줌 \n",
    "    inputs = test_X.to(device)\n",
    "    outputs = model(inputs)\n",
    "    print(outputs)\n",
    "    print(outputs.shape)"
   ]
  },
  {
   "cell_type": "code",
   "execution_count": 9,
   "id": "b520d92d-f270-46ee-a05c-7495fd834b44",
   "metadata": {},
   "outputs": [
    {
     "name": "stdout",
     "output_type": "stream",
     "text": [
      "tensor([[1., 0., 0., 0., 0.],\n",
      "        [0., 0., 1., 0., 0.],\n",
      "        [1., 0., 0., 0., 0.],\n",
      "        ...,\n",
      "        [1., 0., 0., 0., 0.],\n",
      "        [0., 0., 1., 0., 0.],\n",
      "        [0., 0., 1., 0., 0.]])\n"
     ]
    }
   ],
   "source": [
    "print(torch.round(F.softmax(outputs, dim=1), decimals=2)) #to represent as prob for each label\n",
    "# print(outputs.argmax(1))  \n",
    "pred = outputs.argmax(1).cpu().numpy() #torch tensor to numpy array obj "
   ]
  },
  {
   "cell_type": "code",
   "execution_count": 10,
   "id": "3c7a8f2a-abf4-41fc-87d5-897b003a997e",
   "metadata": {},
   "outputs": [],
   "source": [
    "# ### Model save and load by pytorch\n",
    "# path = 'saved_model/'\n",
    "\n",
    "# ## model save (architecture + param)\n",
    "# torch.save(model, path+'CNN_LSTM_supervised.pt')\n",
    "\n",
    "# ## model save (only param)\n",
    "# torch.save(model.state_dict(), path+'CNN_LSTM_supervised_param.pt')\n",
    "\n",
    "# ## model load (architecture + param)\n",
    "# torch.load(path+'CNN_LSTM_supervised.pt')\n",
    "\n",
    "# ## model load(only param , for same model structure )\n",
    "# new_model = model #conv1d_lstm model structure\n",
    "# new_model.load_state_dict(torch.load(path+'CNN_LSTM_supervised_param.pt'))"
   ]
  },
  {
   "cell_type": "code",
   "execution_count": 11,
   "id": "cfee83a4-062f-4b91-a02b-505e71d63b84",
   "metadata": {},
   "outputs": [
    {
     "name": "stdout",
     "output_type": "stream",
     "text": [
      "accuracy:0.9272197962154294\n",
      "Precision: 0.765070\n",
      "Recall: 0.705533\n",
      "F1 score: 0.731892\n"
     ]
    },
    {
     "data": {
      "text/plain": [
       "<sklearn.metrics._plot.confusion_matrix.ConfusionMatrixDisplay at 0x263e0773430>"
      ]
     },
     "execution_count": 11,
     "metadata": {},
     "output_type": "execute_result"
    },
    {
     "data": {
      "image/png": "[encoded data removed]",
      "text/plain": [
       "<Figure size 640x480 with 2 Axes>"
      ]
     },
     "metadata": {},
     "output_type": "display_data"
    }
   ],
   "source": [
    "## model evaluation by test set \n",
    "\n",
    "from sklearn.metrics import precision_score, recall_score, f1_score, accuracy_score \n",
    "\n",
    "oos_y = []\n",
    "oos_pred = []\n",
    "\n",
    "test_y.numpy()\n",
    "oos_y.append(test_y)\n",
    "oos_pred.append(pred)\n",
    "y_compare = test_y\n",
    "\n",
    "\n",
    "score = accuracy_score(y_compare, pred)\n",
    "print(\"accuracy:{}\".format(score))\n",
    "precision = precision_score(y_compare, pred, average='macro')\n",
    "print('Precision: %f' % precision)\n",
    "recall = recall_score(y_compare, pred, average='macro')\n",
    "print('Recall: %f' % recall)\n",
    "f1 = f1_score(y_compare, pred, average='macro')\n",
    "print('F1 score: %f' % f1)\n",
    "\n",
    "from sklearn.metrics import confusion_matrix, ConfusionMatrixDisplay\n",
    "\n",
    "cm = confusion_matrix(y_compare, pred)\n",
    "disp = ConfusionMatrixDisplay(confusion_matrix=cm)\n",
    "disp.plot()"
   ]
  },
  {
   "cell_type": "code",
   "execution_count": 12,
   "id": "ea5bdba2-9502-42fe-b251-9e043b240adb",
   "metadata": {},
   "outputs": [
    {
     "name": "stdout",
     "output_type": "stream",
     "text": [
      "              precision    recall  f1-score   support\n",
      "\n",
      "         0.0       0.95      0.97      0.96       554\n",
      "         1.0       0.40      0.40      0.40         5\n",
      "         2.0       0.88      0.84      0.86        81\n",
      "         3.0       0.76      0.70      0.73        23\n",
      "         4.0       0.83      0.62      0.71        24\n",
      "\n",
      "    accuracy                           0.93       687\n",
      "   macro avg       0.77      0.71      0.73       687\n",
      "weighted avg       0.93      0.93      0.93       687\n",
      "\n"
     ]
    }
   ],
   "source": [
    "from sklearn.metrics import classification_report\n",
    "\n",
    "print(classification_report(test_y, pred))"
   ]
  },
  {
   "cell_type": "code",
   "execution_count": 13,
   "id": "2edaf5b9-6c10-4ff3-b524-0976fed5628b",
   "metadata": {},
   "outputs": [],
   "source": [
    "## labels = ['unlabeled', 'acc', 'dec', 'lc_left', 'lc_right']"
   ]
  },
  {
   "cell_type": "code",
   "execution_count": 14,
   "id": "13d771d2-6bf1-412b-94c0-c9e1aca8124c",
   "metadata": {},
   "outputs": [
    {
     "name": "stdout",
     "output_type": "stream",
     "text": [
      "CNN_LSTM(\n",
      "  (conv1d): Conv1d(13, 26, kernel_size=(2,), stride=(1,), padding=same)\n",
      "  (lstm): LSTM(26, 78, num_layers=2, batch_first=True, dropout=0.5)\n",
      "  (dense): Linear(in_features=78, out_features=5, bias=True)\n",
      ")\n"
     ]
    }
   ],
   "source": [
    "print(model)"
   ]
  },
  {
   "cell_type": "code",
   "execution_count": 15,
   "id": "0fe208f0-e0f4-4c11-a437-f5e2e0e0de74",
   "metadata": {},
   "outputs": [],
   "source": [
    "# pred = pd.DataFrame(pred)\n",
    "# pred.to_csv(\"pred_results/cnn_lstm_results.csv\")"
   ]
  }
 ],
 "metadata": {
  "kernelspec": {
   "display_name": "py38",
   "language": "python",
   "name": "python3"
  },
  "language_info": {
   "codemirror_mode": {
    "name": "ipython",
    "version": 3
   },
   "file_extension": ".py",
   "mimetype": "text/x-python",
   "name": "python",
   "nbconvert_exporter": "python",
   "pygments_lexer": "ipython3",
   "version": "3.8.13"
  },
  "vscode": {
   "interpreter": {
    "hash": "2e34963b9aa1c0ebb4812a7f2a57632eb232e24c7240576deb31ccfc1dcd81fa"
   }
  }
 },
 "nbformat": 4,
 "nbformat_minor": 5
}
