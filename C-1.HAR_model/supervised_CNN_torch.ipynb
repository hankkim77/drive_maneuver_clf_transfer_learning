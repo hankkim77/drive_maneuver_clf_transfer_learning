{
 "cells": [
  {
   "attachments": {},
   "cell_type": "markdown",
   "id": "871d245c-bf71-4409-9757-c9c246bd72d8",
   "metadata": {},
   "source": [
    "## HAR_CNN model \n",
    "#### Add LC candidate from matlab as feature"
   ]
  },
  {
   "cell_type": "code",
   "execution_count": 1,
   "id": "3422c2eb-56f7-4017-9d7e-e7b11089b756",
   "metadata": {},
   "outputs": [
    {
     "name": "stderr",
     "output_type": "stream",
     "text": [
      "c:\\Users\\hankk\\Miniconda3\\envs\\py38\\lib\\site-packages\\tqdm\\auto.py:22: TqdmWarning: IProgress not found. Please update jupyter and ipywidgets. See https://ipywidgets.readthedocs.io/en/stable/user_install.html\n",
      "  from .autonotebook import tqdm as notebook_tqdm\n"
     ]
    }
   ],
   "source": [
    "import pandas as pd \n",
    "import numpy as np\n",
    "import torch\n",
    "import torch.nn as nn\n",
    "from torch import optim\n",
    "import torch.nn.functional as F\n",
    "import matplotlib.pyplot as plt\n",
    "import os\n",
    "import pickle\n",
    "from torch.autograd import Variable\n",
    "from sklearn.preprocessing import LabelEncoder, OneHotEncoder, StandardScaler, MinMaxScaler\n",
    "from sklearn.metrics import precision_score, recall_score, f1_score, accuracy_score \n",
    "from sklearn.metrics import classification_report\n",
    "\n",
    "seed = 7\n",
    "np.random.seed(seed)"
   ]
  },
  {
   "cell_type": "code",
   "execution_count": 2,
   "id": "3c746146",
   "metadata": {},
   "outputs": [],
   "source": [
    "file_path = '../Data/'\n",
    "gpu_use = 'single' ## 'multi', 'single'\n",
    "gpu_num = 0"
   ]
  },
  {
   "cell_type": "code",
   "execution_count": 3,
   "id": "de386dfa-f747-4ad8-b144-3b4d7e79900c",
   "metadata": {},
   "outputs": [],
   "source": [
    "## multi-GPU\n",
    "if gpu_use == 'multi':\n",
    "    NGPU = torch.cuda.device_count()\n",
    "    device = torch.device(\"cuda\" if torch.cuda.is_available() else \"cpu\")\n",
    "\n",
    "## single-GPU\n",
    "elif gpu_use == 'single':\n",
    "    device = torch.device(\"cuda:{}\".format(gpu_num) if torch.cuda.is_available() else \"cpu\")"
   ]
  },
  {
   "cell_type": "code",
   "execution_count": 4,
   "id": "551e346e-2d54-4e7b-add9-8ef68eb97e0f",
   "metadata": {},
   "outputs": [],
   "source": [
    "## Load_data\n",
    "with open(file_path + 'data_no_std.pkl', 'rb') as f:\n",
    "     dataset = pickle.load(f)\n",
    "\n",
    "train_X = dataset[0]\n",
    "test_X = dataset[1]\n",
    "train_y = dataset[2]\n",
    "test_y = dataset[3]"
   ]
  },
  {
   "cell_type": "code",
   "execution_count": 5,
   "id": "41f738b2",
   "metadata": {},
   "outputs": [
    {
     "name": "stdout",
     "output_type": "stream",
     "text": [
      "(2746, 32, 13)\n",
      "(687, 32, 13)\n",
      "(2746,)\n",
      "(687,)\n"
     ]
    }
   ],
   "source": [
    "print(train_X.shape)\n",
    "print(test_X.shape)\n",
    "print(train_y.shape)\n",
    "print(test_y.shape)"
   ]
  },
  {
   "attachments": {},
   "cell_type": "markdown",
   "id": "3ec00d32-b7b7-45df-8bfe-f497a0340d25",
   "metadata": {},
   "source": [
    "### Model description\n",
    "\n",
    "- InputLayer (32(timeseries_length)* 13(features))\n",
    "- (batch, 32, 13) -> (batch, 16, 26)\n",
    "- 1d conv (kernel size 2 , stride 1 )\n",
    "- maxpooling 1d (pool size 2, stride 2)   (Pool size: size of the max pooling window , == kernel size)\n",
    "\n",
    "- (batch, 16,26) -> (batch, 8, 52)\n",
    "- 1d conv (kernel size 2 , stride 1 )\n",
    "- maxpooling 1d (pool size 2, stride 2)\n",
    "\n",
    "- (batch, 8,52) -> (batch, 4, 104)\n",
    "- 1d conv (kernel size 2 , stride 1)\n",
    "- maxpooling 1d (pool size 2, stride 2) \n",
    "\n",
    "- (batch, 4,104) -> (batch, 2, 208)\n",
    "- 1d conv (kernel size 2 , stride 1)\n",
    "- maxpooling 1d (pool size 2, stride 2)\n",
    "\n",
    "- flatten  (-1, 32*13)\n",
    "- dropout(0.5)\n",
    "- dense(5)"
   ]
  },
  {
   "cell_type": "code",
   "execution_count": 6,
   "id": "26c868c3-cf65-42dd-a3a7-3de1d6bd84c1",
   "metadata": {},
   "outputs": [],
   "source": [
    "## set model(CNN)\n",
    "\n",
    "class CNN(nn.Module):\n",
    "    def __init__(self, in_channel=30, out_channel=11):\n",
    "        super(CNN, self).__init__()\n",
    "        \n",
    "        self.conv1d_1 = nn.Conv1d(in_channels = in_channel, out_channels = 26, kernel_size = 2, stride = 1 , padding = 'same')\n",
    "        self.MaxPool1d_1 = nn.MaxPool1d(kernel_size = 2, stride =2)\n",
    "        self.conv1d_2 = nn.Conv1d(in_channels = 26, out_channels = 52, kernel_size = 2, stride = 1, padding = 'same' )\n",
    "        self.MaxPool1d_2 = nn.MaxPool1d(kernel_size = 2, stride =2)\n",
    "        self.conv1d_3 = nn.Conv1d(in_channels = 52, out_channels = 104, kernel_size = 2, stride = 1, padding = 'same' )\n",
    "        self.MaxPool1d_3 = nn.MaxPool1d(kernel_size = 2, stride =2)\n",
    "        self.conv1d_4 = nn.Conv1d(in_channels = 104, out_channels = 208, kernel_size = 2, stride = 1, padding = 'same' )\n",
    "        self.MaxPool1d_4 = nn.MaxPool1d(kernel_size = 2, stride =2)   \n",
    "        \n",
    "        self.flatten = nn.Flatten()\n",
    "        self.dropout = nn.Dropout(p = 0.5)\n",
    "        self.dense = nn.Linear(32*13, out_channel)\n",
    "        \n",
    "    def forward(self, x):\n",
    "\t# Raw x shape : (B, S, F) => (B, 32, 13)\n",
    "        \n",
    "        x = x.transpose(1,2)\n",
    "        #  x shape : (B,F,S) => (B, 13, 32)\n",
    "        x = self.conv1d_1(x)\n",
    "        x = self.MaxPool1d_1(x)\n",
    "        x = self.conv1d_2(x)\n",
    "        x = self.MaxPool1d_2(x)\n",
    "        x = self.conv1d_3(x)\n",
    "        x = self.MaxPool1d_3(x)\n",
    "        x = self.conv1d_4(x)\n",
    "        x = self.MaxPool1d_4(x)\n",
    "        x = self.flatten(x)\n",
    "        x = self.dropout(x)\n",
    "        x = self.dense(x)\n",
    "\n",
    "        return x"
   ]
  },
  {
   "cell_type": "code",
   "execution_count": 7,
   "id": "2d85c76b-3368-4b09-a431-28e1b6854fa4",
   "metadata": {},
   "outputs": [
    {
     "name": "stderr",
     "output_type": "stream",
     "text": [
      "c:\\Users\\hankk\\Miniconda3\\envs\\py38\\lib\\site-packages\\torch\\nn\\modules\\conv.py:309: UserWarning: Using padding='same' with even kernel lengths and odd dilation may require a zero-padded copy of the input be created (Triggered internally at C:\\actions-runner\\_work\\pytorch\\pytorch\\builder\\windows\\pytorch\\aten\\src\\ATen\\native\\Convolution.cpp:896.)\n",
      "  return F.conv1d(input, weight, bias, self.stride,\n"
     ]
    },
    {
     "name": "stdout",
     "output_type": "stream",
     "text": [
      "Epoch: 0, loss:4.050541400909424\n",
      "Epoch: 50, loss:0.4705102741718292\n",
      "Epoch: 100, loss:0.28858867287635803\n",
      "Epoch: 150, loss:0.30371975898742676\n",
      "Epoch: 200, loss:0.25728103518486023\n",
      "Epoch: 250, loss:0.20637653768062592\n",
      "Epoch: 300, loss:0.19093091785907745\n",
      "Epoch: 350, loss:0.18043819069862366\n",
      "Epoch: 400, loss:0.17329072952270508\n",
      "Epoch: 450, loss:0.23333615064620972\n",
      "Epoch: 500, loss:0.15498504042625427\n",
      "Epoch: 550, loss:0.11708098649978638\n",
      "Epoch: 600, loss:0.10481377691030502\n",
      "Epoch: 650, loss:0.11289607733488083\n",
      "Epoch: 700, loss:0.10022169351577759\n",
      "Epoch: 750, loss:0.12987598776817322\n",
      "Epoch: 800, loss:0.05719437822699547\n",
      "Epoch: 850, loss:0.07480432093143463\n",
      "Epoch: 900, loss:0.061224862933158875\n",
      "Epoch: 950, loss:0.06411716341972351\n",
      "Epoch: 1000, loss:0.07038040459156036\n",
      "Epoch: 1050, loss:0.04608440026640892\n",
      "Epoch: 1100, loss:0.03512474149465561\n",
      "Epoch: 1150, loss:0.08633940666913986\n",
      "Epoch: 1200, loss:0.024043651297688484\n",
      "Epoch: 1250, loss:0.10868626832962036\n",
      "Epoch: 1300, loss:0.041174035519361496\n",
      "Epoch: 1350, loss:0.04126223549246788\n",
      "Epoch: 1400, loss:0.03732781484723091\n",
      "Epoch: 1450, loss:0.03448893502354622\n",
      "Epoch: 1500, loss:0.02475067600607872\n",
      "Epoch: 1550, loss:0.027180589735507965\n",
      "Epoch: 1600, loss:0.027989447116851807\n",
      "Epoch: 1650, loss:0.06591565161943436\n",
      "Epoch: 1700, loss:0.030061984434723854\n",
      "Epoch: 1750, loss:0.04258917644619942\n",
      "Epoch: 1800, loss:0.024267056956887245\n",
      "Epoch: 1850, loss:0.028114235028624535\n",
      "Epoch: 1900, loss:0.01547315064817667\n",
      "Epoch: 1950, loss:0.024892497807741165\n"
     ]
    }
   ],
   "source": [
    "## model training \n",
    "\n",
    "from tqdm import tqdm\n",
    "from torch.utils.data import TensorDataset, DataLoader\n",
    "\n",
    "train_X = torch.Tensor(train_X)\n",
    "train_y = torch.Tensor(train_y)\n",
    "test_X = torch.Tensor(test_X)\n",
    "test_y = torch.Tensor(test_y)\n",
    "\n",
    "dataset = TensorDataset(train_X, train_y)\n",
    "loader = DataLoader(dataset, batch_size = 1000, shuffle=True, drop_last=False)\n",
    "\n",
    "num_epochs = 2000\n",
    "lr = 0.0015\n",
    "\n",
    "in_channel=13\n",
    "out_channel=5 ##output class\n",
    "\n",
    "## multi GPU    \n",
    "if gpu_use == 'multi':\n",
    "    model = CNN(in_channel, out_channel)\n",
    "    if NGPU > 1:\n",
    "        model = nn.DataParallel(model, device_ids = list(range(NGPU)))\n",
    "    # torch.multiprocessing.set_start_method('spawn')\n",
    "    model.to(device)\n",
    "\n",
    "## single GPU\n",
    "elif gpu_use == 'single':\n",
    "    model = CNN(in_channel, out_channel).to(device)\n",
    "\n",
    "criterion = nn.CrossEntropyLoss().to(device) #Loss for multiclass classification\n",
    "optimizer = optim.Adam(model.parameters(), lr=lr) #optimizer SGD\n",
    "\n",
    "#Train the model\n",
    "\n",
    "for epoch in range(num_epochs):\n",
    "    for train_X,train_y in loader:\n",
    "        train_X = train_X.to(device)\n",
    "        train_y = train_y.type(torch.LongTensor)\n",
    "        train_y = train_y.to(device)\n",
    "        outputs = model(train_X)\n",
    "        # obtain loss function\n",
    "        loss = criterion(outputs, train_y)\n",
    "        optimizer.zero_grad()\n",
    "        loss.backward()\n",
    "        optimizer.step()\n",
    "    \n",
    "    if epoch % 50 == 0:\n",
    "        print(\"Epoch: {}, loss:{}\".format(epoch, loss.item()))"
   ]
  },
  {
   "cell_type": "code",
   "execution_count": 8,
   "id": "9b0c06ba-8cb8-4747-aafc-6e2f46ad370d",
   "metadata": {},
   "outputs": [
    {
     "name": "stdout",
     "output_type": "stream",
     "text": [
      "tensor([[  4.3031, -35.8335,   0.2390,   9.6413,  -1.1546],\n",
      "        [  2.6157, -13.4535,  12.7099, -21.0222, -16.2019],\n",
      "        [ 16.5091, -30.6403,   0.4576, -12.0509, -21.2960],\n",
      "        ...,\n",
      "        [ 15.4000, -19.2864,  -3.6911, -17.6958, -17.9336],\n",
      "        [ -1.6744, -38.2342,  24.5256, -12.9024,  -4.0654],\n",
      "        [  4.4213, -20.7512,  11.5920, -15.3435, -10.4345]])\n",
      "torch.Size([687, 5])\n"
     ]
    }
   ],
   "source": [
    "## Inference for test data \n",
    "\n",
    "with torch.no_grad(): #off the autograd / memory 절약, calculation speed up \n",
    "    model.eval() #dropout layer와 같이 training / inference 시에 다르게 동작하는 layer를 inference(eval) mode로 바꾸어줌 \n",
    "    inputs = test_X.to(device)\n",
    "    outputs = model(inputs)\n",
    "    print(outputs)\n",
    "    print(outputs.shape)"
   ]
  },
  {
   "cell_type": "code",
   "execution_count": 9,
   "id": "b520d92d-f270-46ee-a05c-7495fd834b44",
   "metadata": {},
   "outputs": [
    {
     "name": "stdout",
     "output_type": "stream",
     "text": [
      "tensor([[0., 0., 0., 1., 0.],\n",
      "        [0., 0., 1., 0., 0.],\n",
      "        [1., 0., 0., 0., 0.],\n",
      "        ...,\n",
      "        [1., 0., 0., 0., 0.],\n",
      "        [0., 0., 1., 0., 0.],\n",
      "        [0., 0., 1., 0., 0.]])\n"
     ]
    }
   ],
   "source": [
    "print(torch.round(F.softmax(outputs, dim=1), decimals=2)) #to represent as prob for each label\n",
    "# print(outputs.argmax(1))  \n",
    "pred = outputs.argmax(1).cpu().numpy() #torch tensor to numpy array obj "
   ]
  },
  {
   "cell_type": "code",
   "execution_count": 10,
   "id": "3c7a8f2a-abf4-41fc-87d5-897b003a997e",
   "metadata": {},
   "outputs": [],
   "source": [
    "# ### Model save and load by pytorch\n",
    "# path = 'saved_model/'\n",
    "\n",
    "# ## model save (architecture + param)\n",
    "# torch.save(model, path+'CNN_supervised.pt')\n",
    "\n",
    "# ## model save (only param)\n",
    "# torch.save(model.state_dict(), path+'CNN_supervised_param.pt')\n",
    "\n",
    "# ## model load (architecture + param)\n",
    "# torch.load(path+'CNN_supervised.pt')\n",
    "\n",
    "# ## model load(only param , for same model structure )\n",
    "# new_model = model #conv1d_lstm model structure\n",
    "# new_model.load_state_dict(torch.load(path+'CNN_supervised_param.pt'))"
   ]
  },
  {
   "cell_type": "code",
   "execution_count": 11,
   "id": "cfee83a4-062f-4b91-a02b-505e71d63b84",
   "metadata": {},
   "outputs": [
    {
     "name": "stdout",
     "output_type": "stream",
     "text": [
      "accuracy:0.9272197962154294\n",
      "Precision: 0.675828\n",
      "Recall: 0.624970\n",
      "F1 score: 0.644832\n"
     ]
    },
    {
     "name": "stderr",
     "output_type": "stream",
     "text": [
      "c:\\Users\\hankk\\Miniconda3\\envs\\py38\\lib\\site-packages\\sklearn\\metrics\\_classification.py:1334: UndefinedMetricWarning: Precision is ill-defined and being set to 0.0 in labels with no predicted samples. Use `zero_division` parameter to control this behavior.\n",
      "  _warn_prf(average, modifier, msg_start, len(result))\n"
     ]
    },
    {
     "data": {
      "text/plain": [
       "<sklearn.metrics._plot.confusion_matrix.ConfusionMatrixDisplay at 0x195a2af77f0>"
      ]
     },
     "execution_count": 11,
     "metadata": {},
     "output_type": "execute_result"
    },
    {
     "data": {
      "image/png": "[encoded data removed]",
      "text/plain": [
       "<Figure size 640x480 with 2 Axes>"
      ]
     },
     "metadata": {},
     "output_type": "display_data"
    }
   ],
   "source": [
    "## model evaluation by test set \n",
    "\n",
    "from sklearn.metrics import precision_score, recall_score, f1_score, accuracy_score \n",
    "\n",
    "oos_y = []\n",
    "oos_pred = []\n",
    "\n",
    "test_y.numpy()\n",
    "oos_y.append(test_y)\n",
    "oos_pred.append(pred)\n",
    "y_compare = test_y\n",
    "\n",
    "\n",
    "score = accuracy_score(y_compare, pred)\n",
    "print(\"accuracy:{}\".format(score))\n",
    "precision = precision_score(y_compare, pred, average='macro')\n",
    "print('Precision: %f' % precision)\n",
    "recall = recall_score(y_compare, pred, average='macro')\n",
    "print('Recall: %f' % recall)\n",
    "f1 = f1_score(y_compare, pred, average='macro')\n",
    "print('F1 score: %f' % f1)\n",
    "\n",
    "from sklearn.metrics import confusion_matrix, ConfusionMatrixDisplay\n",
    "\n",
    "cm = confusion_matrix(y_compare, pred)\n",
    "disp = ConfusionMatrixDisplay(confusion_matrix=cm)\n",
    "disp.plot()"
   ]
  },
  {
   "cell_type": "code",
   "execution_count": 12,
   "id": "ea5bdba2-9502-42fe-b251-9e043b240adb",
   "metadata": {},
   "outputs": [
    {
     "name": "stdout",
     "output_type": "stream",
     "text": [
      "              precision    recall  f1-score   support\n",
      "\n",
      "         0.0       0.95      0.97      0.96       554\n",
      "         1.0       0.00      0.00      0.00         5\n",
      "         2.0       0.85      0.88      0.86        81\n",
      "         3.0       0.77      0.74      0.76        23\n",
      "         4.0       0.81      0.54      0.65        24\n",
      "\n",
      "    accuracy                           0.93       687\n",
      "   macro avg       0.68      0.62      0.64       687\n",
      "weighted avg       0.92      0.93      0.92       687\n",
      "\n"
     ]
    },
    {
     "name": "stderr",
     "output_type": "stream",
     "text": [
      "c:\\Users\\hankk\\Miniconda3\\envs\\py38\\lib\\site-packages\\sklearn\\metrics\\_classification.py:1334: UndefinedMetricWarning: Precision and F-score are ill-defined and being set to 0.0 in labels with no predicted samples. Use `zero_division` parameter to control this behavior.\n",
      "  _warn_prf(average, modifier, msg_start, len(result))\n",
      "c:\\Users\\hankk\\Miniconda3\\envs\\py38\\lib\\site-packages\\sklearn\\metrics\\_classification.py:1334: UndefinedMetricWarning: Precision and F-score are ill-defined and being set to 0.0 in labels with no predicted samples. Use `zero_division` parameter to control this behavior.\n",
      "  _warn_prf(average, modifier, msg_start, len(result))\n",
      "c:\\Users\\hankk\\Miniconda3\\envs\\py38\\lib\\site-packages\\sklearn\\metrics\\_classification.py:1334: UndefinedMetricWarning: Precision and F-score are ill-defined and being set to 0.0 in labels with no predicted samples. Use `zero_division` parameter to control this behavior.\n",
      "  _warn_prf(average, modifier, msg_start, len(result))\n"
     ]
    }
   ],
   "source": [
    "from sklearn.metrics import classification_report\n",
    "\n",
    "print(classification_report(test_y, pred))"
   ]
  },
  {
   "cell_type": "code",
   "execution_count": 13,
   "id": "2edaf5b9-6c10-4ff3-b524-0976fed5628b",
   "metadata": {},
   "outputs": [],
   "source": [
    "## labels = ['unlabeled', 'acc', 'dec', 'lc_left', 'lc_right']"
   ]
  },
  {
   "cell_type": "code",
   "execution_count": 14,
   "id": "dfebd8c5-d1ee-4071-a6db-de939719d8b8",
   "metadata": {},
   "outputs": [
    {
     "name": "stdout",
     "output_type": "stream",
     "text": [
      "CNN(\n",
      "  (conv1d_1): Conv1d(13, 26, kernel_size=(2,), stride=(1,), padding=same)\n",
      "  (MaxPool1d_1): MaxPool1d(kernel_size=2, stride=2, padding=0, dilation=1, ceil_mode=False)\n",
      "  (conv1d_2): Conv1d(26, 52, kernel_size=(2,), stride=(1,), padding=same)\n",
      "  (MaxPool1d_2): MaxPool1d(kernel_size=2, stride=2, padding=0, dilation=1, ceil_mode=False)\n",
      "  (conv1d_3): Conv1d(52, 104, kernel_size=(2,), stride=(1,), padding=same)\n",
      "  (MaxPool1d_3): MaxPool1d(kernel_size=2, stride=2, padding=0, dilation=1, ceil_mode=False)\n",
      "  (conv1d_4): Conv1d(104, 208, kernel_size=(2,), stride=(1,), padding=same)\n",
      "  (MaxPool1d_4): MaxPool1d(kernel_size=2, stride=2, padding=0, dilation=1, ceil_mode=False)\n",
      "  (flatten): Flatten(start_dim=1, end_dim=-1)\n",
      "  (dropout): Dropout(p=0.5, inplace=False)\n",
      "  (dense): Linear(in_features=416, out_features=5, bias=True)\n",
      ")\n"
     ]
    }
   ],
   "source": [
    "print(model)"
   ]
  },
  {
   "cell_type": "code",
   "execution_count": 15,
   "id": "736bb02e-eda4-4a7a-9591-d83386cdfd19",
   "metadata": {},
   "outputs": [],
   "source": [
    "pred = pd.DataFrame(pred)\n",
    "pred.to_csv(\"pred_results/cnn_results.csv\")"
   ]
  }
 ],
 "metadata": {
  "kernelspec": {
   "display_name": "py38",
   "language": "python",
   "name": "python3"
  },
  "language_info": {
   "codemirror_mode": {
    "name": "ipython",
    "version": 3
   },
   "file_extension": ".py",
   "mimetype": "text/x-python",
   "name": "python",
   "nbconvert_exporter": "python",
   "pygments_lexer": "ipython3",
   "version": "3.8.13"
  },
  "vscode": {
   "interpreter": {
    "hash": "2e34963b9aa1c0ebb4812a7f2a57632eb232e24c7240576deb31ccfc1dcd81fa"
   }
  }
 },
 "nbformat": 4,
 "nbformat_minor": 5
}
