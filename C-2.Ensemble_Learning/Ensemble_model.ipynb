{
 "cells": [
  {
   "cell_type": "markdown",
   "id": "871d245c-bf71-4409-9757-c9c246bd72d8",
   "metadata": {},
   "source": [
    "#### Ensemble model with (K-NN/ Xgboost / Stacked LSTM(deep learning)) "
   ]
  },
  {
   "cell_type": "code",
   "execution_count": 1,
   "id": "3422c2eb-56f7-4017-9d7e-e7b11089b756",
   "metadata": {},
   "outputs": [
    {
     "name": "stderr",
     "output_type": "stream",
     "text": [
      "c:\\Users\\hankk\\Miniconda3\\envs\\py38\\lib\\site-packages\\tqdm\\auto.py:22: TqdmWarning: IProgress not found. Please update jupyter and ipywidgets. See https://ipywidgets.readthedocs.io/en/stable/user_install.html\n",
      "  from .autonotebook import tqdm as notebook_tqdm\n"
     ]
    }
   ],
   "source": [
    "import pandas as pd \n",
    "import numpy as np\n",
    "import torch\n",
    "import torch.nn as nn\n",
    "from torch import optim\n",
    "import torch.nn.functional as F\n",
    "import matplotlib.pyplot as plt\n",
    "from keras.utils import np_utils\n",
    "import os\n",
    "import pickle\n",
    "from torch.autograd import Variable\n",
    "from sklearn.preprocessing import LabelEncoder, OneHotEncoder, StandardScaler, MinMaxScaler\n",
    "from sklearn.metrics import precision_score, recall_score, f1_score, accuracy_score \n",
    "from sklearn.metrics import classification_report\n",
    "\n",
    "seed = 7\n",
    "np.random.seed(seed)"
   ]
  },
  {
   "cell_type": "code",
   "execution_count": 2,
   "id": "a61ccab4",
   "metadata": {},
   "outputs": [],
   "source": [
    "pred_results_path = '../2-1.HAR_model/pred_results/'\n",
    "file_path = '../Data/'"
   ]
  },
  {
   "cell_type": "code",
   "execution_count": 3,
   "id": "551e346e-2d54-4e7b-add9-8ef68eb97e0f",
   "metadata": {},
   "outputs": [],
   "source": [
    "with open(file_path + 'data_no_std.pkl', 'rb') as f:\n",
    "     dataset = pickle.load(f)\n",
    "\n",
    "train_X = dataset[0]\n",
    "test_X = dataset[1]\n",
    "train_y = dataset[2]\n",
    "test_y = dataset[3]"
   ]
  },
  {
   "cell_type": "code",
   "execution_count": 4,
   "id": "79e82b1e-c85d-423c-91dc-3d2a372a801b",
   "metadata": {},
   "outputs": [],
   "source": [
    "knn = pd.read_csv(pred_results_path + 'knn_results.csv', index_col = 0)\n",
    "xgb = pd.read_csv(pred_results_path + 'xgb_results.csv', index_col = 0)\n",
    "lstm = pd.read_csv(pred_results_path + 'lstm_results.csv', index_col = 0)\n",
    "cnn = pd.read_csv(pred_results_path + 'cnn_results.csv', index_col = 0)\n",
    "cnn_lstm = pd.read_csv(pred_results_path + 'cnn_lstm_results.csv', index_col = 0)"
   ]
  },
  {
   "cell_type": "code",
   "execution_count": 5,
   "id": "1c41f0a9-0ab5-455d-91fd-639259e67329",
   "metadata": {},
   "outputs": [],
   "source": [
    "# encode the classification labels\n",
    "knn = np_utils.to_categorical(knn)\n",
    "xgb = np_utils.to_categorical(xgb)\n",
    "lstm = np_utils.to_categorical(lstm)\n",
    "cnn = np_utils.to_categorical(cnn)\n",
    "cnn_lstm = np_utils.to_categorical(cnn_lstm)"
   ]
  },
  {
   "cell_type": "code",
   "execution_count": 6,
   "id": "01d3f21e-615d-4d11-9b24-3746e4225946",
   "metadata": {},
   "outputs": [],
   "source": [
    "w1 = 0.25\n",
    "w2 = 0.4\n",
    "w3 = 0.35\n",
    "w4 = 0.2\n",
    "w5 = 0.35"
   ]
  },
  {
   "cell_type": "code",
   "execution_count": 7,
   "id": "738f312c-8916-4476-a359-6e397c0832a5",
   "metadata": {},
   "outputs": [
    {
     "data": {
      "text/plain": [
       "array([[1.35     , 0.       , 0.       , 0.       , 0.2      ],\n",
       "       [1.35     , 0.       , 0.       , 0.       , 0.2      ],\n",
       "       [1.35     , 0.       , 0.       , 0.2      , 0.       ],\n",
       "       ...,\n",
       "       [1.5500001, 0.       , 0.       , 0.       , 0.       ],\n",
       "       [1.35     , 0.       , 0.       , 0.2      , 0.       ],\n",
       "       [0.35     , 0.       , 0.2      , 1.       , 0.       ]],\n",
       "      dtype=float32)"
      ]
     },
     "execution_count": 7,
     "metadata": {},
     "output_type": "execute_result"
    }
   ],
   "source": [
    "pred = w1*lstm + w2*cnn + w3*cnn_lstm + w4*knn + w5*xgb\n",
    "pred"
   ]
  },
  {
   "cell_type": "code",
   "execution_count": 8,
   "id": "59f1ce81-7011-4310-acde-e2de37beddcd",
   "metadata": {},
   "outputs": [],
   "source": [
    "pred = np.argmax(pred, axis=1).reshape(-1,1)\n",
    "test_y = test_y.reshape(-1,1)"
   ]
  },
  {
   "cell_type": "code",
   "execution_count": 9,
   "id": "cfee83a4-062f-4b91-a02b-505e71d63b84",
   "metadata": {},
   "outputs": [
    {
     "name": "stdout",
     "output_type": "stream",
     "text": [
      "accuracy:0.9518486672398968\n",
      "Precision: 0.880825\n",
      "Recall: 0.735389\n",
      "F1 score: 0.793455\n"
     ]
    },
    {
     "data": {
      "text/plain": [
       "<sklearn.metrics._plot.confusion_matrix.ConfusionMatrixDisplay at 0x29f4e119c10>"
      ]
     },
     "execution_count": 9,
     "metadata": {},
     "output_type": "execute_result"
    },
    {
     "data": {
      "image/png": "[encoded data removed]",
      "text/plain": [
       "<Figure size 640x480 with 2 Axes>"
      ]
     },
     "metadata": {},
     "output_type": "display_data"
    }
   ],
   "source": [
    "## model evaluation by test set \n",
    "oos_y = []\n",
    "oos_pred = []\n",
    "\n",
    "test_y\n",
    "oos_y.append(test_y)\n",
    "oos_pred.append(pred)\n",
    "y_compare = test_y\n",
    "\n",
    "score = accuracy_score(y_compare, pred)\n",
    "print(\"accuracy:{}\".format(score))\n",
    "precision = precision_score(y_compare, pred, average='macro')\n",
    "print('Precision: %f' % precision)\n",
    "recall = recall_score(y_compare, pred, average='macro')\n",
    "print('Recall: %f' % recall)\n",
    "f1 = f1_score(y_compare, pred, average='macro')\n",
    "print('F1 score: %f' % f1)\n",
    "\n",
    "from sklearn.metrics import confusion_matrix, ConfusionMatrixDisplay\n",
    "\n",
    "cm = confusion_matrix(y_compare, pred)\n",
    "disp = ConfusionMatrixDisplay(confusion_matrix=cm)\n",
    "disp.plot()"
   ]
  },
  {
   "cell_type": "code",
   "execution_count": 10,
   "id": "ea5bdba2-9502-42fe-b251-9e043b240adb",
   "metadata": {},
   "outputs": [
    {
     "name": "stdout",
     "output_type": "stream",
     "text": [
      "              precision    recall  f1-score   support\n",
      "\n",
      "           0       0.96      0.98      0.97       956\n",
      "           1       0.75      0.50      0.60         6\n",
      "           2       0.90      0.92      0.91       124\n",
      "           3       0.96      0.62      0.75        39\n",
      "           4       0.83      0.66      0.74        38\n",
      "\n",
      "    accuracy                           0.95      1163\n",
      "   macro avg       0.88      0.74      0.79      1163\n",
      "weighted avg       0.95      0.95      0.95      1163\n",
      "\n"
     ]
    }
   ],
   "source": [
    "print(classification_report(test_y, pred))"
   ]
  },
  {
   "cell_type": "markdown",
   "id": "1e28b70a-b586-4e4f-acbd-c933e164ff1b",
   "metadata": {},
   "source": [
    "- lstm/cnn/cnn_lstm : 0.25/0.4/0.35 -> precision recall F1 0.9 0.72 0.78\n",
    "- lstm/cnn/cnn_lstm/knn/xgb : 0.25/0.4/0.35/0.2/0.35 -> precision recall F1 0.92 0.71 0.78"
   ]
  }
 ],
 "metadata": {
  "kernelspec": {
   "display_name": "py38",
   "language": "python",
   "name": "python3"
  },
  "language_info": {
   "codemirror_mode": {
    "name": "ipython",
    "version": 3
   },
   "file_extension": ".py",
   "mimetype": "text/x-python",
   "name": "python",
   "nbconvert_exporter": "python",
   "pygments_lexer": "ipython3",
   "version": "3.8.13"
  },
  "vscode": {
   "interpreter": {
    "hash": "2e34963b9aa1c0ebb4812a7f2a57632eb232e24c7240576deb31ccfc1dcd81fa"
   }
  }
 },
 "nbformat": 4,
 "nbformat_minor": 5
}
