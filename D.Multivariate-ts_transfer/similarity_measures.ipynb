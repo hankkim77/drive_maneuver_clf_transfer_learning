{
 "cells": [
  {
   "attachments": {},
   "cell_type": "markdown",
   "metadata": {},
   "source": [
    "### Calculate Dataset Similarity (between Pretrain Multivariate TS dataset & Target Dataset)"
   ]
  },
  {
   "cell_type": "code",
   "execution_count": null,
   "metadata": {},
   "outputs": [],
   "source": [
    "import os\n",
    "import sktime\n",
    "from sktime.datasets import load_from_tsfile\n",
    "import numpy as np\n",
    "import pandas as pd\n",
    "from tslearn.clustering import TimeSeriesKMeans\n",
    "from tslearn.barycenters import dtw_barycenter_averaging\n",
    "from dtaidistance.dtw_ndim import distance\n",
    "from tslearn.metrics import dtw\n",
    "import pickle"
   ]
  },
  {
   "cell_type": "code",
   "execution_count": 3,
   "metadata": {},
   "outputs": [],
   "source": [
    "DATA_PATH = 'Multivariate_ts/'\n",
    "\n",
    "dataset_lst = os.listdir(DATA_PATH)\n",
    "\n",
    "data_num = 1\n",
    "\n",
    "def load_data(data_num):\n",
    "    data_name = dataset_lst[data_num]\n",
    "    print(data_name)\n",
    "    \n",
    "    train_x, train_y = load_from_tsfile(\n",
    "        os.path.join(DATA_PATH, \"{}/{}_TRAIN.ts\".format(data_name, data_name)), return_data_type=\"numpy3d\"\n",
    "    )\n",
    "    test_x, test_y = load_from_tsfile(\n",
    "        os.path.join(DATA_PATH, \"{}/{}_TEST.ts\".format(data_name, data_name)), return_data_type=\"numpy3d\"\n",
    "    )\n",
    "\n",
    "    train_X = np.transpose(train_x, (0,2,1))\n",
    "    test_X = np.transpose(test_x, (0,2,1))\n",
    "    \n",
    "    return train_X,train_y,test_X,test_y, data_name"
   ]
  },
  {
   "cell_type": "code",
   "execution_count": 4,
   "metadata": {},
   "outputs": [],
   "source": [
    "def data_reduction(train_x, train_y, num_dba =1):\n",
    "    num_dba = num_dba\n",
    "    labels = list(set(train_y))\n",
    "    dba_lst = []\n",
    "    for label in labels:\n",
    "        x = train_x[np.where(train_y == label)[0]]\n",
    "        km_dtw = TimeSeriesKMeans(n_clusters = num_dba , metric= 'dtw').fit(x)\n",
    "        dba_lst.append(dtw_barycenter_averaging(x))\n",
    "    dba_lst = np.array(dba_lst)\n",
    "    return dba_lst"
   ]
  },
  {
   "cell_type": "code",
   "execution_count": 5,
   "metadata": {},
   "outputs": [],
   "source": [
    "def cal_dist(dba_lst, dba_lst2):\n",
    "    src1 = dba_lst.shape[0]\n",
    "    src2 = dba_lst2.shape[0]\n",
    "\n",
    "    dist = 99999999\n",
    "    for i in range(src1):\n",
    "        for j in range(src2):\n",
    "            # d = distance(dba_lst[i], dba_lst2[j])\n",
    "            d = dtw(dba_lst[i], dba_lst2[j])\n",
    "            if dist>d:\n",
    "                dist = d\n",
    "            else:\n",
    "                pass\n",
    "    return dist"
   ]
  },
  {
   "cell_type": "code",
   "execution_count": 6,
   "metadata": {},
   "outputs": [],
   "source": [
    "data_num_lst = []\n",
    "for i in range(len(dataset_lst)):\n",
    "    if i == 0 or i == 17 or i == 21 or i ==22 or i ==23 or i ==29:\n",
    "        continue\n",
    "    else:\n",
    "        data_num_lst.append(i)"
   ]
  },
  {
   "cell_type": "code",
   "execution_count": 8,
   "metadata": {},
   "outputs": [
    {
     "name": "stdout",
     "output_type": "stream",
     "text": [
      "Epilepsy\n",
      "(32, 13)\n",
      "(32, 13)\n",
      "(32, 13)\n",
      "(32, 13)\n",
      "(32, 13)\n",
      "(32, 13)\n",
      "(32, 13)\n",
      "(32, 13)\n",
      "(32, 13)\n",
      "(32, 13)\n",
      "(32, 13)\n",
      "(32, 13)\n",
      "(32, 13)\n",
      "(32, 13)\n",
      "(32, 13)\n",
      "(32, 13)\n",
      "(32, 13)\n",
      "(32, 13)\n",
      "(32, 13)\n",
      "(32, 13)\n",
      "(32, 13)\n",
      "(32, 13)\n",
      "(32, 13)\n",
      "(32, 13)\n",
      "(32, 13)\n",
      "(32, 13)\n",
      "(32, 13)\n",
      "(32, 13)\n",
      "(32, 13)\n",
      "(32, 13)\n",
      "(32, 13)\n",
      "(32, 13)\n",
      "(32, 13)\n",
      "(32, 13)\n",
      "(32, 13)\n",
      "(32, 13)\n",
      "(32, 13)\n",
      "(32, 13)\n",
      "(32, 13)\n",
      "(32, 13)\n",
      "0 2462.125843675084\n"
     ]
    }
   ],
   "source": [
    "with open('../Data/data_no_std.pkl', 'rb') as f:\n",
    "     dataset = pickle.load(f)\n",
    "\n",
    "train_X = dataset[0]\n",
    "test_X = dataset[1]\n",
    "train_y = dataset[2]\n",
    "test_y = dataset[3]\n",
    "\n",
    "dba_lst = data_reduction(train_X, train_y, num_dba =1)\n",
    "\n",
    "dist_lst = []\n",
    "name_lst = []\n",
    "for idx, data_num in enumerate(data_num_lst):\n",
    "    if idx != 0 : # 7,9,15\n",
    "        continue\n",
    "    train_X,train_y,test_X,test_y,data_name = load_data(data_num)\n",
    "    dba_lst2 = data_reduction(train_X, train_y, num_dba =1)\n",
    "    dist = cal_dist(dba_lst, dba_lst2)\n",
    "    dist_lst.append(dist)\n",
    "    name_lst.append(data_name)\n",
    "    print(idx, dist)"
   ]
  },
  {
   "attachments": {},
   "cell_type": "markdown",
   "metadata": {},
   "source": [
    "##### Distance results\n",
    "\n",
    "Epilepsy\n",
    "0 2462.1240614324397\n",
    "UWaveGestureLibrary\n",
    "1 3044.0701107507907\n",
    "Cricket\n",
    "2 5931.830232878103\n",
    "NATOPS\n",
    "3 1237.616755941324\n",
    "PhonemeSpectra\n",
    "4 2530.006465260642\n",
    "PenDigits\n",
    "5 776.059428790238\n",
    "ArticularyWordRecognition\n",
    "6 2061.423384675636\n",
    "AtrialFibrillation\n",
    "8 4338.804460424922\n",
    "MotorImagery\n",
    "9 9165.706198061407\n",
    "ERing\n",
    "10 1389.1673217600862\n",
    "SelfRegulationSCP2\n",
    "11 5545.114939565758\n",
    "FaceDetection\n",
    "12 1357.2220448401488\n",
    "RacketSports\n",
    "13 99999999\n",
    "HandMovementDirection\n",
    "14 6847.925489080805\n",
    "PEMS-SF\n",
    "16 2061.347381097233\n",
    "Handwriting\n",
    "17 2117.843225714928\n",
    "FingerMovements\n",
    "18 1249.3103807477314\n",
    "StandWalkJump\n",
    "19 8571.429302278359\n",
    "BasicMotions\n",
    "20 1686.6459995555308\n",
    "Heartbeat\n",
    "21 3452.4401912395097\n",
    "LSST\n",
    "22 1085.0822742330877\n",
    "SelfRegulationSCP1\n",
    "23 4694.9303915596865"
   ]
  },
  {
   "cell_type": "markdown",
   "metadata": {},
   "source": []
  }
 ],
 "metadata": {
  "kernelspec": {
   "display_name": "py38",
   "language": "python",
   "name": "py38"
  },
  "language_info": {
   "codemirror_mode": {
    "name": "ipython",
    "version": 3
   },
   "file_extension": ".py",
   "mimetype": "text/x-python",
   "name": "python",
   "nbconvert_exporter": "python",
   "pygments_lexer": "ipython3",
   "version": "3.8.0"
  },
  "vscode": {
   "interpreter": {
    "hash": "2e34963b9aa1c0ebb4812a7f2a57632eb232e24c7240576deb31ccfc1dcd81fa"
   }
  }
 },
 "nbformat": 4,
 "nbformat_minor": 4
}
